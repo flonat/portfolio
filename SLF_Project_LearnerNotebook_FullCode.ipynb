{
 "cells": [
  {
   "cell_type": "markdown",
   "metadata": {
    "id": "LC7LRtYLraa8"
   },
   "source": [
    "# Supervised Learning - Foundations: ReCell \n"
   ]
  },
  {
   "cell_type": "markdown",
   "metadata": {
    "id": "RA_GXJwuhmVz"
   },
   "source": [
    "## Context\n",
    "\n",
    "Buying and selling used phones and tablets used to be something that happened on a handful of online marketplace sites. But the used and refurbished device market has grown considerably over the past decade, and a new IDC (International Data Corporation) forecast predicts that the used phone market would be worth \\$52.7bn by 2023 with a compound annual growth rate (CAGR) of 13.6% from 2018 to 2023. This growth can be attributed to an uptick in demand for used phones and tablets that offer considerable savings compared with new models.\n",
    "\n",
    "Refurbished and used devices continue to provide cost-effective alternatives to both consumers and businesses that are looking to save money when purchasing one. There are plenty of other benefits associated with the used device market. Used and refurbished devices can be sold with warranties and can also be insured with proof of purchase. Third-party vendors/platforms, such as Verizon, Amazon, etc., provide attractive offers to customers for refurbished devices. Maximizing the longevity of devices through second-hand trade also reduces their environmental impact and helps in recycling and reducing waste. The impact of the COVID-19 outbreak may further boost this segment as consumers cut back on discretionary spending and buy phones and tablets only for immediate needs.\n",
    "\n",
    " \n",
    "## Objective\n",
    "\n",
    "The rising potential of this comparatively under-the-radar market fuels the need for an ML-based solution to develop a dynamic pricing strategy for used and refurbished devices. ReCell, a startup aiming to tap the potential in this market, has hired you as a data scientist. They want you to analyze the data provided and build a linear regression model to predict the price of a used phone/tablet and identify factors that significantly influence it.\n",
    "\n",
    " \n",
    "## Data Description\n",
    "The data contains the different attributes of used/refurbished phones and tablets. The detailed data dictionary is given below.\n",
    "\n",
    "**Data Dictionary**\n",
    "\n",
    "- brand_name: Name of manufacturing brand\n",
    "- os: OS on which the device runs\n",
    "- screen_size: Size of the screen in cm\n",
    "- 4g: Whether 4G is available or not\n",
    "- 5g: Whether 5G is available or not\n",
    "- main_camera_mp: Resolution of the rear camera in megapixels\n",
    "- selfie_camera_mp: Resolution of the front camera in megapixels\n",
    "- int_memory: Amount of internal memory (ROM) in GB\n",
    "- ram: Amount of RAM in GB\n",
    "- battery: Energy capacity of the device battery in mAh\n",
    "- weight: Weight of the device in grams\n",
    "- release_year: Year when the device model was released\n",
    "- days_used: Number of days the used/refurbished device has been used\n",
    "- new_price: Price of a new device of the same model in euros\n",
    "- used_price: Price of the used/refurbished device in euros"
   ]
  },
  {
   "cell_type": "markdown",
   "metadata": {
    "id": "GLmC-0-fDPyI"
   },
   "source": [
    "## Importing necessary libraries and data"
   ]
  },
  {
   "cell_type": "code",
   "execution_count": 1,
   "metadata": {
    "id": "zeF8YaNKDPyK"
   },
   "outputs": [],
   "source": [
    "#load libraries\n",
    "import numpy as np\n",
    "import pandas as pd\n",
    "import matplotlib.pyplot as plt\n",
    "import seaborn as sns\n",
    "%matplotlib inline\n",
    "import warnings\n",
    "warnings.filterwarnings('ignore')"
   ]
  },
  {
   "cell_type": "code",
   "execution_count": 2,
   "metadata": {
    "id": "ohwfdffn7-hj"
   },
   "outputs": [],
   "source": [
    "# import the required libraries\n",
    "import seaborn as seabornInstance\n",
    "from sklearn.model_selection import train_test_split\n",
    "from sklearn.linear_model import LinearRegression\n",
    "from sklearn import metrics"
   ]
  },
  {
   "cell_type": "markdown",
   "metadata": {
    "id": "UvpMDcaaMKtI"
   },
   "source": [
    "## Data Overview\n",
    "\n",
    "- Observations\n",
    "- Sanity checks"
   ]
  },
  {
   "cell_type": "code",
   "execution_count": 4,
   "metadata": {
    "colab": {
     "base_uri": "https://localhost:8080/",
     "height": 204
    },
    "id": "oPXeMirG7-hj",
    "outputId": "0157186a-4b1c-4db6-cd56-00a820c57e32"
   },
   "outputs": [
    {
     "data": {
      "text/html": [
       "<div>\n",
       "<style scoped>\n",
       "    .dataframe tbody tr th:only-of-type {\n",
       "        vertical-align: middle;\n",
       "    }\n",
       "\n",
       "    .dataframe tbody tr th {\n",
       "        vertical-align: top;\n",
       "    }\n",
       "\n",
       "    .dataframe thead th {\n",
       "        text-align: right;\n",
       "    }\n",
       "</style>\n",
       "<table border=\"1\" class=\"dataframe\">\n",
       "  <thead>\n",
       "    <tr style=\"text-align: right;\">\n",
       "      <th></th>\n",
       "      <th>brand_name</th>\n",
       "      <th>os</th>\n",
       "      <th>screen_size</th>\n",
       "      <th>4g</th>\n",
       "      <th>5g</th>\n",
       "      <th>main_camera_mp</th>\n",
       "      <th>selfie_camera_mp</th>\n",
       "      <th>int_memory</th>\n",
       "      <th>ram</th>\n",
       "      <th>battery</th>\n",
       "      <th>weight</th>\n",
       "      <th>release_year</th>\n",
       "      <th>days_used</th>\n",
       "      <th>new_price</th>\n",
       "      <th>used_price</th>\n",
       "    </tr>\n",
       "  </thead>\n",
       "  <tbody>\n",
       "    <tr>\n",
       "      <th>0</th>\n",
       "      <td>Honor</td>\n",
       "      <td>Android</td>\n",
       "      <td>14.50</td>\n",
       "      <td>yes</td>\n",
       "      <td>no</td>\n",
       "      <td>13.0</td>\n",
       "      <td>5.0</td>\n",
       "      <td>64.0</td>\n",
       "      <td>3.0</td>\n",
       "      <td>3020.0</td>\n",
       "      <td>146.0</td>\n",
       "      <td>2020</td>\n",
       "      <td>127</td>\n",
       "      <td>111.62</td>\n",
       "      <td>74.26</td>\n",
       "    </tr>\n",
       "    <tr>\n",
       "      <th>1</th>\n",
       "      <td>Honor</td>\n",
       "      <td>Android</td>\n",
       "      <td>17.30</td>\n",
       "      <td>yes</td>\n",
       "      <td>yes</td>\n",
       "      <td>13.0</td>\n",
       "      <td>16.0</td>\n",
       "      <td>128.0</td>\n",
       "      <td>8.0</td>\n",
       "      <td>4300.0</td>\n",
       "      <td>213.0</td>\n",
       "      <td>2020</td>\n",
       "      <td>325</td>\n",
       "      <td>249.39</td>\n",
       "      <td>174.53</td>\n",
       "    </tr>\n",
       "    <tr>\n",
       "      <th>2</th>\n",
       "      <td>Honor</td>\n",
       "      <td>Android</td>\n",
       "      <td>16.69</td>\n",
       "      <td>yes</td>\n",
       "      <td>yes</td>\n",
       "      <td>13.0</td>\n",
       "      <td>8.0</td>\n",
       "      <td>128.0</td>\n",
       "      <td>8.0</td>\n",
       "      <td>4200.0</td>\n",
       "      <td>213.0</td>\n",
       "      <td>2020</td>\n",
       "      <td>162</td>\n",
       "      <td>359.47</td>\n",
       "      <td>165.85</td>\n",
       "    </tr>\n",
       "    <tr>\n",
       "      <th>3</th>\n",
       "      <td>Honor</td>\n",
       "      <td>Android</td>\n",
       "      <td>25.50</td>\n",
       "      <td>yes</td>\n",
       "      <td>yes</td>\n",
       "      <td>13.0</td>\n",
       "      <td>8.0</td>\n",
       "      <td>64.0</td>\n",
       "      <td>6.0</td>\n",
       "      <td>7250.0</td>\n",
       "      <td>480.0</td>\n",
       "      <td>2020</td>\n",
       "      <td>345</td>\n",
       "      <td>278.93</td>\n",
       "      <td>169.93</td>\n",
       "    </tr>\n",
       "    <tr>\n",
       "      <th>4</th>\n",
       "      <td>Honor</td>\n",
       "      <td>Android</td>\n",
       "      <td>15.32</td>\n",
       "      <td>yes</td>\n",
       "      <td>no</td>\n",
       "      <td>13.0</td>\n",
       "      <td>8.0</td>\n",
       "      <td>64.0</td>\n",
       "      <td>3.0</td>\n",
       "      <td>5000.0</td>\n",
       "      <td>185.0</td>\n",
       "      <td>2020</td>\n",
       "      <td>293</td>\n",
       "      <td>140.87</td>\n",
       "      <td>80.64</td>\n",
       "    </tr>\n",
       "  </tbody>\n",
       "</table>\n",
       "</div>"
      ],
      "text/plain": [
       "  brand_name       os  screen_size  ... days_used new_price  used_price\n",
       "0      Honor  Android        14.50  ...       127    111.62       74.26\n",
       "1      Honor  Android        17.30  ...       325    249.39      174.53\n",
       "2      Honor  Android        16.69  ...       162    359.47      165.85\n",
       "3      Honor  Android        25.50  ...       345    278.93      169.93\n",
       "4      Honor  Android        15.32  ...       293    140.87       80.64\n",
       "\n",
       "[5 rows x 15 columns]"
      ]
     },
     "execution_count": 4,
     "metadata": {},
     "output_type": "execute_result"
    }
   ],
   "source": [
    "#read data\n",
    "df=pd.read_csv('used_device_data.csv')\n",
    "##data observation\n",
    "df.head()"
   ]
  },
  {
   "cell_type": "code",
   "execution_count": 5,
   "metadata": {
    "colab": {
     "base_uri": "https://localhost:8080/",
     "height": 297
    },
    "id": "f9W_n7Bq7-hk",
    "outputId": "5e4e19ee-c948-4cfb-ba5d-f9f12aa7e8ca"
   },
   "outputs": [
    {
     "data": {
      "text/html": [
       "<div>\n",
       "<style scoped>\n",
       "    .dataframe tbody tr th:only-of-type {\n",
       "        vertical-align: middle;\n",
       "    }\n",
       "\n",
       "    .dataframe tbody tr th {\n",
       "        vertical-align: top;\n",
       "    }\n",
       "\n",
       "    .dataframe thead th {\n",
       "        text-align: right;\n",
       "    }\n",
       "</style>\n",
       "<table border=\"1\" class=\"dataframe\">\n",
       "  <thead>\n",
       "    <tr style=\"text-align: right;\">\n",
       "      <th></th>\n",
       "      <th>screen_size</th>\n",
       "      <th>main_camera_mp</th>\n",
       "      <th>selfie_camera_mp</th>\n",
       "      <th>int_memory</th>\n",
       "      <th>ram</th>\n",
       "      <th>battery</th>\n",
       "      <th>weight</th>\n",
       "      <th>release_year</th>\n",
       "      <th>days_used</th>\n",
       "      <th>new_price</th>\n",
       "      <th>used_price</th>\n",
       "    </tr>\n",
       "  </thead>\n",
       "  <tbody>\n",
       "    <tr>\n",
       "      <th>count</th>\n",
       "      <td>3454.000000</td>\n",
       "      <td>3275.000000</td>\n",
       "      <td>3452.000000</td>\n",
       "      <td>3450.000000</td>\n",
       "      <td>3450.000000</td>\n",
       "      <td>3448.000000</td>\n",
       "      <td>3447.000000</td>\n",
       "      <td>3454.000000</td>\n",
       "      <td>3454.000000</td>\n",
       "      <td>3454.000000</td>\n",
       "      <td>3454.000000</td>\n",
       "    </tr>\n",
       "    <tr>\n",
       "      <th>mean</th>\n",
       "      <td>13.713115</td>\n",
       "      <td>9.460208</td>\n",
       "      <td>6.554229</td>\n",
       "      <td>54.573099</td>\n",
       "      <td>4.036122</td>\n",
       "      <td>3133.402697</td>\n",
       "      <td>182.751871</td>\n",
       "      <td>2015.965258</td>\n",
       "      <td>674.869716</td>\n",
       "      <td>237.038848</td>\n",
       "      <td>92.302936</td>\n",
       "    </tr>\n",
       "    <tr>\n",
       "      <th>std</th>\n",
       "      <td>3.805280</td>\n",
       "      <td>4.815461</td>\n",
       "      <td>6.970372</td>\n",
       "      <td>84.972371</td>\n",
       "      <td>1.365105</td>\n",
       "      <td>1299.682844</td>\n",
       "      <td>88.413228</td>\n",
       "      <td>2.298455</td>\n",
       "      <td>248.580166</td>\n",
       "      <td>194.302782</td>\n",
       "      <td>54.701648</td>\n",
       "    </tr>\n",
       "    <tr>\n",
       "      <th>min</th>\n",
       "      <td>5.080000</td>\n",
       "      <td>0.080000</td>\n",
       "      <td>0.000000</td>\n",
       "      <td>0.010000</td>\n",
       "      <td>0.020000</td>\n",
       "      <td>500.000000</td>\n",
       "      <td>69.000000</td>\n",
       "      <td>2013.000000</td>\n",
       "      <td>91.000000</td>\n",
       "      <td>18.200000</td>\n",
       "      <td>4.650000</td>\n",
       "    </tr>\n",
       "    <tr>\n",
       "      <th>25%</th>\n",
       "      <td>12.700000</td>\n",
       "      <td>5.000000</td>\n",
       "      <td>2.000000</td>\n",
       "      <td>16.000000</td>\n",
       "      <td>4.000000</td>\n",
       "      <td>2100.000000</td>\n",
       "      <td>142.000000</td>\n",
       "      <td>2014.000000</td>\n",
       "      <td>533.500000</td>\n",
       "      <td>120.342500</td>\n",
       "      <td>56.482500</td>\n",
       "    </tr>\n",
       "    <tr>\n",
       "      <th>50%</th>\n",
       "      <td>12.830000</td>\n",
       "      <td>8.000000</td>\n",
       "      <td>5.000000</td>\n",
       "      <td>32.000000</td>\n",
       "      <td>4.000000</td>\n",
       "      <td>3000.000000</td>\n",
       "      <td>160.000000</td>\n",
       "      <td>2015.500000</td>\n",
       "      <td>690.500000</td>\n",
       "      <td>189.785000</td>\n",
       "      <td>81.870000</td>\n",
       "    </tr>\n",
       "    <tr>\n",
       "      <th>75%</th>\n",
       "      <td>15.340000</td>\n",
       "      <td>13.000000</td>\n",
       "      <td>8.000000</td>\n",
       "      <td>64.000000</td>\n",
       "      <td>4.000000</td>\n",
       "      <td>4000.000000</td>\n",
       "      <td>185.000000</td>\n",
       "      <td>2018.000000</td>\n",
       "      <td>868.750000</td>\n",
       "      <td>291.115000</td>\n",
       "      <td>116.245000</td>\n",
       "    </tr>\n",
       "    <tr>\n",
       "      <th>max</th>\n",
       "      <td>30.710000</td>\n",
       "      <td>48.000000</td>\n",
       "      <td>32.000000</td>\n",
       "      <td>1024.000000</td>\n",
       "      <td>12.000000</td>\n",
       "      <td>9720.000000</td>\n",
       "      <td>855.000000</td>\n",
       "      <td>2020.000000</td>\n",
       "      <td>1094.000000</td>\n",
       "      <td>2560.200000</td>\n",
       "      <td>749.520000</td>\n",
       "    </tr>\n",
       "  </tbody>\n",
       "</table>\n",
       "</div>"
      ],
      "text/plain": [
       "       screen_size  main_camera_mp  ...    new_price   used_price\n",
       "count  3454.000000     3275.000000  ...  3454.000000  3454.000000\n",
       "mean     13.713115        9.460208  ...   237.038848    92.302936\n",
       "std       3.805280        4.815461  ...   194.302782    54.701648\n",
       "min       5.080000        0.080000  ...    18.200000     4.650000\n",
       "25%      12.700000        5.000000  ...   120.342500    56.482500\n",
       "50%      12.830000        8.000000  ...   189.785000    81.870000\n",
       "75%      15.340000       13.000000  ...   291.115000   116.245000\n",
       "max      30.710000       48.000000  ...  2560.200000   749.520000\n",
       "\n",
       "[8 rows x 11 columns]"
      ]
     },
     "execution_count": 5,
     "metadata": {},
     "output_type": "execute_result"
    }
   ],
   "source": [
    "## Sanity Checks\n",
    "## check summary of the data: Checking the summary statistics of each variable\n",
    "df.describe()"
   ]
  },
  {
   "cell_type": "markdown",
   "metadata": {
    "id": "IIVljh-e7-hk"
   },
   "source": [
    "The above results show the summary statistcs of each variable in the dataset. This includes observing the maximum, minimum, and mean values of each variable.\n",
    "\n",
    "It can be observed that there are no negative values in the dataset which would would be a source of concern and trigger the need for some data review and cleaning."
   ]
  },
  {
   "cell_type": "code",
   "execution_count": 6,
   "metadata": {
    "colab": {
     "base_uri": "https://localhost:8080/"
    },
    "id": "01hJQ7EfMKtK",
    "outputId": "a276fe55-4f5b-4ec2-8c26-bf65a1bdadc9"
   },
   "outputs": [
    {
     "data": {
      "text/plain": [
       "brand_name            0\n",
       "os                    0\n",
       "screen_size           0\n",
       "4g                    0\n",
       "5g                    0\n",
       "main_camera_mp      179\n",
       "selfie_camera_mp      2\n",
       "int_memory            4\n",
       "ram                   4\n",
       "battery               6\n",
       "weight                7\n",
       "release_year          0\n",
       "days_used             0\n",
       "new_price             0\n",
       "used_price            0\n",
       "dtype: int64"
      ]
     },
     "execution_count": 6,
     "metadata": {},
     "output_type": "execute_result"
    }
   ],
   "source": [
    "##Check number of NaN/missing values\n",
    "df.isnull().sum()"
   ]
  },
  {
   "cell_type": "markdown",
   "metadata": {
    "id": "ljVgT3Xs7-hk"
   },
   "source": [
    "It can be observed that some of the columns have missing/nan values hence this needs to be cleaned."
   ]
  },
  {
   "cell_type": "markdown",
   "metadata": {
    "id": "__7ciGcIDPyk"
   },
   "source": [
    "## Exploratory Data Analysis (EDA)\n",
    "\n",
    "- EDA is an important part of any project involving data.\n",
    "- It is important to investigate and understand the data better before building a model with it.\n",
    "- A few questions have been mentioned below which will help you approach the analysis in the right manner and generate insights from the data.\n",
    "- A thorough analysis of the data, in addition to the questions mentioned below, should be done."
   ]
  },
  {
   "cell_type": "markdown",
   "metadata": {
    "id": "oEyqzdJBb0jU"
   },
   "source": [
    "**Questions**:\n",
    "\n",
    "1. What does the distribution of used device prices look like?\n",
    "2. What percentage of the used device market is dominated by Android devices?\n",
    "3. The amount of RAM is important for the smooth functioning of a device. How does the amount of RAM vary with the brand?\n",
    "4. A large battery often increases a device's weight, making it feel uncomfortable in the hands. How does the weight vary for phones and tablets offering large batteries (more than 4500 mAh)?\n",
    "5. Bigger screens are desirable for entertainment purposes as they offer a better viewing experience. How many phones and tablets are available across different brands with a screen size larger than 6 inches?\n",
    "6. Budget devices nowadays offer great selfie cameras, allowing us to capture our favorite moments with loved ones. What is the distribution of budget devices offering greater than 8MP selfie cameras across brands?\n",
    "7. Which attributes are highly correlated with the price of a used device?"
   ]
  },
  {
   "cell_type": "code",
   "execution_count": 7,
   "metadata": {
    "colab": {
     "base_uri": "https://localhost:8080/",
     "height": 111
    },
    "id": "mR97eBC87-hl",
    "outputId": "eea5745b-18d5-483f-d27d-af6ace14f10b"
   },
   "outputs": [
    {
     "data": {
      "text/html": [
       "<div>\n",
       "<style scoped>\n",
       "    .dataframe tbody tr th:only-of-type {\n",
       "        vertical-align: middle;\n",
       "    }\n",
       "\n",
       "    .dataframe tbody tr th {\n",
       "        vertical-align: top;\n",
       "    }\n",
       "\n",
       "    .dataframe thead th {\n",
       "        text-align: right;\n",
       "    }\n",
       "</style>\n",
       "<table border=\"1\" class=\"dataframe\">\n",
       "  <thead>\n",
       "    <tr style=\"text-align: right;\">\n",
       "      <th></th>\n",
       "      <th>brand_name</th>\n",
       "      <th>os</th>\n",
       "      <th>screen_size</th>\n",
       "      <th>4g</th>\n",
       "      <th>5g</th>\n",
       "      <th>main_camera_mp</th>\n",
       "      <th>selfie_camera_mp</th>\n",
       "      <th>int_memory</th>\n",
       "      <th>ram</th>\n",
       "      <th>battery</th>\n",
       "      <th>weight</th>\n",
       "      <th>release_year</th>\n",
       "      <th>days_used</th>\n",
       "      <th>new_price</th>\n",
       "      <th>used_price</th>\n",
       "    </tr>\n",
       "  </thead>\n",
       "  <tbody>\n",
       "    <tr>\n",
       "      <th>0</th>\n",
       "      <td>Honor</td>\n",
       "      <td>Android</td>\n",
       "      <td>14.5</td>\n",
       "      <td>yes</td>\n",
       "      <td>no</td>\n",
       "      <td>13.0</td>\n",
       "      <td>5.0</td>\n",
       "      <td>64.0</td>\n",
       "      <td>3.0</td>\n",
       "      <td>3020.0</td>\n",
       "      <td>146.0</td>\n",
       "      <td>2020</td>\n",
       "      <td>127</td>\n",
       "      <td>111.62</td>\n",
       "      <td>74.26</td>\n",
       "    </tr>\n",
       "    <tr>\n",
       "      <th>1</th>\n",
       "      <td>Honor</td>\n",
       "      <td>Android</td>\n",
       "      <td>17.3</td>\n",
       "      <td>yes</td>\n",
       "      <td>yes</td>\n",
       "      <td>13.0</td>\n",
       "      <td>16.0</td>\n",
       "      <td>128.0</td>\n",
       "      <td>8.0</td>\n",
       "      <td>4300.0</td>\n",
       "      <td>213.0</td>\n",
       "      <td>2020</td>\n",
       "      <td>325</td>\n",
       "      <td>249.39</td>\n",
       "      <td>174.53</td>\n",
       "    </tr>\n",
       "  </tbody>\n",
       "</table>\n",
       "</div>"
      ],
      "text/plain": [
       "  brand_name       os  screen_size  ... days_used new_price  used_price\n",
       "0      Honor  Android         14.5  ...       127    111.62       74.26\n",
       "1      Honor  Android         17.3  ...       325    249.39      174.53\n",
       "\n",
       "[2 rows x 15 columns]"
      ]
     },
     "execution_count": 7,
     "metadata": {},
     "output_type": "execute_result"
    }
   ],
   "source": [
    "df.head(2)"
   ]
  },
  {
   "cell_type": "code",
   "execution_count": 8,
   "metadata": {
    "colab": {
     "base_uri": "https://localhost:8080/",
     "height": 351
    },
    "id": "cN1lyueHttwW",
    "outputId": "b4b482fc-6e78-4813-dcb6-d824f47a5849"
   },
   "outputs": [
    {
     "data": {
      "image/png": "[encoded data removed]",
      "text/plain": [
       "<Figure size 720x360 with 1 Axes>"
      ]
     },
     "metadata": {
      "needs_background": "light"
     },
     "output_type": "display_data"
    }
   ],
   "source": [
    "#What does the distribution of used device prices look like?\n",
    "#check price distribution\n",
    "plt.figure(figsize=(10,5))\n",
    "sns.distplot(df['used_price'],color=\"green\")\n",
    "plt.grid()\n",
    "plt.title(\"Used device Prices Distribution\")\n",
    "plt.show()"
   ]
  },
  {
   "cell_type": "markdown",
   "metadata": {
    "id": "p99MpYmN7-hl"
   },
   "source": [
    "Used device price varies between 1-300 euros"
   ]
  },
  {
   "cell_type": "code",
   "execution_count": 9,
   "metadata": {
    "colab": {
     "base_uri": "https://localhost:8080/",
     "height": 204
    },
    "id": "ez_iaa7m7-hl",
    "outputId": "158409d7-e044-4c11-fed3-79b71ab12639"
   },
   "outputs": [
    {
     "data": {
      "text/html": [
       "<div>\n",
       "<style scoped>\n",
       "    .dataframe tbody tr th:only-of-type {\n",
       "        vertical-align: middle;\n",
       "    }\n",
       "\n",
       "    .dataframe tbody tr th {\n",
       "        vertical-align: top;\n",
       "    }\n",
       "\n",
       "    .dataframe thead th {\n",
       "        text-align: right;\n",
       "    }\n",
       "</style>\n",
       "<table border=\"1\" class=\"dataframe\">\n",
       "  <thead>\n",
       "    <tr style=\"text-align: right;\">\n",
       "      <th></th>\n",
       "      <th>Count</th>\n",
       "      <th>Percentage</th>\n",
       "    </tr>\n",
       "    <tr>\n",
       "      <th>os</th>\n",
       "      <th></th>\n",
       "      <th></th>\n",
       "    </tr>\n",
       "  </thead>\n",
       "  <tbody>\n",
       "    <tr>\n",
       "      <th>Android</th>\n",
       "      <td>3214</td>\n",
       "      <td>93.051534</td>\n",
       "    </tr>\n",
       "    <tr>\n",
       "      <th>Others</th>\n",
       "      <td>137</td>\n",
       "      <td>3.966416</td>\n",
       "    </tr>\n",
       "    <tr>\n",
       "      <th>Windows</th>\n",
       "      <td>67</td>\n",
       "      <td>1.939780</td>\n",
       "    </tr>\n",
       "    <tr>\n",
       "      <th>iOS</th>\n",
       "      <td>36</td>\n",
       "      <td>1.042270</td>\n",
       "    </tr>\n",
       "  </tbody>\n",
       "</table>\n",
       "</div>"
      ],
      "text/plain": [
       "         Count  Percentage\n",
       "os                        \n",
       "Android   3214   93.051534\n",
       "Others     137    3.966416\n",
       "Windows     67    1.939780\n",
       "iOS         36    1.042270"
      ]
     },
     "execution_count": 9,
     "metadata": {},
     "output_type": "execute_result"
    }
   ],
   "source": [
    "#What percentage of the used device market is dominated by Android devices?\n",
    "android = df.groupby('os')['brand_name'].size()\n",
    "android = pd.DataFrame(android)\n",
    "android['Percentage'] = 100 * android['brand_name']  / android['brand_name'].sum()\n",
    "android.rename(columns={'brand_name': 'Count'}, inplace = True)\n",
    "android"
   ]
  },
  {
   "cell_type": "markdown",
   "metadata": {
    "id": "aycq8IU37-hm"
   },
   "source": [
    "Android devices dominates the used device market with a 93.05% market share."
   ]
  },
  {
   "cell_type": "code",
   "execution_count": 10,
   "metadata": {
    "colab": {
     "base_uri": "https://localhost:8080/",
     "height": 395
    },
    "id": "_MZDQRNE7-hm",
    "outputId": "cc3fc195-e307-4f79-c3a0-e20a75fc1148"
   },
   "outputs": [
    {
     "data": {
      "image/png": "[encoded data removed]",
      "text/plain": [
       "<Figure size 864x360 with 1 Axes>"
      ]
     },
     "metadata": {
      "needs_background": "light"
     },
     "output_type": "display_data"
    }
   ],
   "source": [
    "#The amount of RAM is important for the smooth functioning of a device. How does the amount of RAM vary with the brand?\n",
    "#ram vs brand\n",
    "plt.figure(figsize=(12,5))\n",
    "sns.barplot(df['brand_name'],df['ram'])\n",
    "plt.grid()\n",
    "plt.title(\"Brands vs RAM\")\n",
    "plt.xticks(rotation=90)\n",
    "plt.show()"
   ]
  },
  {
   "cell_type": "markdown",
   "metadata": {
    "id": "Q4jqKkEV7-hm"
   },
   "source": [
    "It can be observed that the **OnePlus** brand has the largest RAM while **Celkon** brand has the lowest RAM."
   ]
  },
  {
   "cell_type": "code",
   "execution_count": 11,
   "metadata": {
    "colab": {
     "base_uri": "https://localhost:8080/"
    },
    "id": "3_oDFwLL7-hm",
    "outputId": "5756b4aa-9e4a-4aca-9aad-05dea448bcf3"
   },
   "outputs": [
    {
     "data": {
      "text/plain": [
       "341"
      ]
     },
     "execution_count": 11,
     "metadata": {},
     "output_type": "execute_result"
    }
   ],
   "source": [
    "#A large battery often increases a device's weight, making it feel uncomfortable in the hands. \n",
    "#How does the weight vary for phones and tablets offering large batteries (more than 4500 mAh)?\n",
    "###Filter data to obtain devices with more than 4500mAh\n",
    "battery = df[df['battery'] > 4500]\n",
    "battery.shape[0]"
   ]
  },
  {
   "cell_type": "code",
   "execution_count": 12,
   "metadata": {
    "colab": {
     "base_uri": "https://localhost:8080/",
     "height": 395
    },
    "id": "2Fb1DbsA7-hm",
    "outputId": "c0402d66-0012-418d-c26f-10841f3dfcf2"
   },
   "outputs": [
    {
     "data": {
      "image/png": "[encoded data removed]",
      "text/plain": [
       "<Figure size 864x360 with 1 Axes>"
      ]
     },
     "metadata": {
      "needs_background": "light"
     },
     "output_type": "display_data"
    }
   ],
   "source": [
    "plt.figure(figsize=(12,5))\n",
    "sns.barplot(df['brand_name'],df['weight'])\n",
    "plt.grid()\n",
    "plt.title(\"Weight of Brands with High Baterry Capacity\")\n",
    "plt.xticks(rotation=90)\n",
    "plt.show()"
   ]
  },
  {
   "cell_type": "markdown",
   "metadata": {
    "id": "Sus9ELDe7-hm"
   },
   "source": [
    "It can be observed that there are 341 devices that have battery capacity more than 4500mAh."
   ]
  },
  {
   "cell_type": "markdown",
   "metadata": {
    "id": "o536kk5P7-hm"
   },
   "source": [
    "Among the brands with large battery capacity, it can be seen that Apple has the heaviest weight with more than 300 grams."
   ]
  },
  {
   "cell_type": "code",
   "execution_count": 13,
   "metadata": {
    "colab": {
     "base_uri": "https://localhost:8080/"
    },
    "id": "1IazSHan9XCI",
    "outputId": "a2ca01bf-429c-4fa6-9782-e3b917cb24aa"
   },
   "outputs": [
    {
     "data": {
      "text/plain": [
       "array(['Honor', 'Others', 'HTC', 'Huawei', 'Infinix', 'Lava', 'Lenovo',\n",
       "       'LG', 'Meizu', 'Micromax', 'Motorola', 'Nokia', 'OnePlus', 'Oppo',\n",
       "       'Realme', 'Samsung', 'Vivo', 'Xiaomi', 'ZTE', 'Apple', 'Asus',\n",
       "       'Coolpad', 'Acer', 'Alcatel', 'BlackBerry', 'Celkon', 'Gionee',\n",
       "       'Google', 'Karbonn', 'Microsoft', 'Panasonic', 'Sony', 'Spice',\n",
       "       'XOLO'], dtype=object)"
      ]
     },
     "execution_count": 13,
     "metadata": {},
     "output_type": "execute_result"
    }
   ],
   "source": [
    "#Bigger screens are desirable for entertainment purposes as they offer a better viewing experience.\n",
    "#How many phones and tablets are available across different brands with a screen size larger than 6 inches?\n",
    "###Filter data to obtain brands with a screen size larger than 6 inches\n",
    "screensize = df[df['screen_size'] > 6]\n",
    "screensize.shape[0]\n",
    "\n",
    "screensize['brand_name'].unique()"
   ]
  },
  {
   "cell_type": "code",
   "execution_count": 14,
   "metadata": {
    "colab": {
     "base_uri": "https://localhost:8080/"
    },
    "id": "oK_Ni7N77-hn",
    "outputId": "a0bb35c5-892e-4719-c874-5e10eb24cc30"
   },
   "outputs": [
    {
     "data": {
      "text/plain": [
       "array(['Honor', 'Others', 'HTC', 'Huawei', 'Infinix', 'Lava', 'Lenovo',\n",
       "       'LG', 'Meizu', 'Micromax', 'Motorola', 'Nokia', 'OnePlus', 'Oppo',\n",
       "       'Realme', 'Samsung', 'Vivo', 'Xiaomi', 'ZTE', 'Apple', 'Asus',\n",
       "       'Coolpad', 'Acer', 'Alcatel', 'BlackBerry', 'Celkon', 'Gionee',\n",
       "       'Google', 'Karbonn', 'Microsoft', 'Panasonic', 'Sony', 'Spice',\n",
       "       'XOLO'], dtype=object)"
      ]
     },
     "execution_count": 14,
     "metadata": {},
     "output_type": "execute_result"
    }
   ],
   "source": [
    "#Bigger screens are desirable for entertainment purposes as they offer a better viewing experience.\n",
    "#How many phones and tablets are available across different brands with a screen size larger than 6 inches?\n",
    "###Filter data to obtain brands with a screen size larger than 6 inches\n",
    "screensize = df[df['screen_size'] > 6]\n",
    "screensize.shape[0]\n",
    "\n",
    "screensize['brand_name'].unique()"
   ]
  },
  {
   "cell_type": "markdown",
   "metadata": {
    "id": "egGENIYI7-hn"
   },
   "source": [
    "The above results show all brands with a screen size larger than 6 inches.\n",
    "\n",
    "Such brands include: 'Honor', 'Others', 'HTC', 'Huawei', 'Infinix', 'Lava', 'Lenovo', 'LG', 'Meizu', 'Micromax', 'Motorola', 'Nokia', 'OnePlus', 'Oppo', 'Realme', 'Samsung', 'Vivo', 'Xiaomi', 'ZTE', 'Apple', 'Asus',\n",
    " 'Coolpad', 'Acer', 'Alcatel', 'BlackBerry', 'Celkon', 'Gionee',\n",
    " 'Google', 'Karbonn', 'Microsoft', 'Panasonic', 'Sony', 'Spice', and \n",
    " 'XOLO'"
   ]
  },
  {
   "cell_type": "code",
   "execution_count": 15,
   "metadata": {
    "colab": {
     "base_uri": "https://localhost:8080/",
     "height": 111
    },
    "id": "VOqJSCHp7-hn",
    "outputId": "839902ae-ba9a-4805-c440-d8b8f465bdb2"
   },
   "outputs": [
    {
     "data": {
      "text/html": [
       "<div>\n",
       "<style scoped>\n",
       "    .dataframe tbody tr th:only-of-type {\n",
       "        vertical-align: middle;\n",
       "    }\n",
       "\n",
       "    .dataframe tbody tr th {\n",
       "        vertical-align: top;\n",
       "    }\n",
       "\n",
       "    .dataframe thead th {\n",
       "        text-align: right;\n",
       "    }\n",
       "</style>\n",
       "<table border=\"1\" class=\"dataframe\">\n",
       "  <thead>\n",
       "    <tr style=\"text-align: right;\">\n",
       "      <th></th>\n",
       "      <th>brand_name</th>\n",
       "      <th>os</th>\n",
       "      <th>screen_size</th>\n",
       "      <th>4g</th>\n",
       "      <th>5g</th>\n",
       "      <th>main_camera_mp</th>\n",
       "      <th>selfie_camera_mp</th>\n",
       "      <th>int_memory</th>\n",
       "      <th>ram</th>\n",
       "      <th>battery</th>\n",
       "      <th>weight</th>\n",
       "      <th>release_year</th>\n",
       "      <th>days_used</th>\n",
       "      <th>new_price</th>\n",
       "      <th>used_price</th>\n",
       "    </tr>\n",
       "  </thead>\n",
       "  <tbody>\n",
       "    <tr>\n",
       "      <th>1</th>\n",
       "      <td>Honor</td>\n",
       "      <td>Android</td>\n",
       "      <td>17.30</td>\n",
       "      <td>yes</td>\n",
       "      <td>yes</td>\n",
       "      <td>13.0</td>\n",
       "      <td>16.0</td>\n",
       "      <td>128.0</td>\n",
       "      <td>8.0</td>\n",
       "      <td>4300.0</td>\n",
       "      <td>213.0</td>\n",
       "      <td>2020</td>\n",
       "      <td>325</td>\n",
       "      <td>249.39</td>\n",
       "      <td>174.53</td>\n",
       "    </tr>\n",
       "    <tr>\n",
       "      <th>8</th>\n",
       "      <td>Honor</td>\n",
       "      <td>Android</td>\n",
       "      <td>15.32</td>\n",
       "      <td>yes</td>\n",
       "      <td>no</td>\n",
       "      <td>13.0</td>\n",
       "      <td>16.0</td>\n",
       "      <td>128.0</td>\n",
       "      <td>6.0</td>\n",
       "      <td>4000.0</td>\n",
       "      <td>165.0</td>\n",
       "      <td>2020</td>\n",
       "      <td>161</td>\n",
       "      <td>200.32</td>\n",
       "      <td>132.43</td>\n",
       "    </tr>\n",
       "  </tbody>\n",
       "</table>\n",
       "</div>"
      ],
      "text/plain": [
       "  brand_name       os  screen_size  ... days_used new_price  used_price\n",
       "1      Honor  Android        17.30  ...       325    249.39      174.53\n",
       "8      Honor  Android        15.32  ...       161    200.32      132.43\n",
       "\n",
       "[2 rows x 15 columns]"
      ]
     },
     "execution_count": 15,
     "metadata": {},
     "output_type": "execute_result"
    }
   ],
   "source": [
    "#Budget devices nowadays offer great selfie cameras, allowing us to capture our favorite moments with loved ones.\n",
    "#What is the distribution of budget devices offering greater than 8MP selfie cameras across brands?\n",
    "\n",
    "###Filter data to obtain devices offering greater than 8MP selfie cameras across brands\n",
    "selfiecamera = df[df['selfie_camera_mp'] > 8]\n",
    "selfiecamera.head(2)\n",
    "\n"
   ]
  },
  {
   "cell_type": "code",
   "execution_count": 16,
   "metadata": {
    "colab": {
     "base_uri": "https://localhost:8080/",
     "height": 351
    },
    "id": "gvifivpI7-hn",
    "outputId": "f5d73973-260c-4105-c159-b93ef635d4f6"
   },
   "outputs": [
    {
     "data": {
      "image/png": "[encoded data removed]",
      "text/plain": [
       "<Figure size 720x360 with 1 Axes>"
      ]
     },
     "metadata": {
      "needs_background": "light"
     },
     "output_type": "display_data"
    }
   ],
   "source": [
    "#check price distribution\n",
    "plt.figure(figsize=(10,5))\n",
    "sns.distplot(selfiecamera['new_price'],color=\"blue\")\n",
    "plt.grid()\n",
    "plt.title(\"Budget Distribution for devices with more than 8MP Selfie Camera\")\n",
    "plt.show()"
   ]
  },
  {
   "cell_type": "markdown",
   "metadata": {
    "id": "WkpEyS_Z7-hn"
   },
   "source": [
    "It can be observed that the budget for devices with more than 8MP camera is between 100-1000 euros."
   ]
  },
  {
   "cell_type": "markdown",
   "metadata": {
    "id": "KWdC15c07-hn"
   },
   "source": [
    "However, there are those devices that are sold more than 2500 euros"
   ]
  },
  {
   "cell_type": "code",
   "execution_count": 17,
   "metadata": {
    "colab": {
     "base_uri": "https://localhost:8080/",
     "height": 390
    },
    "id": "h3Un8lFK7-hn",
    "outputId": "fdf1dc38-aac6-4cd7-ca85-f83bcbfddc00"
   },
   "outputs": [
    {
     "data": {
      "text/html": [
       "<style  type=\"text/css\" >\n",
       "#T_fcdcd2c0_59cd_11ec_88ac_0242ac1c0002row0_col0,#T_fcdcd2c0_59cd_11ec_88ac_0242ac1c0002row1_col1,#T_fcdcd2c0_59cd_11ec_88ac_0242ac1c0002row2_col2,#T_fcdcd2c0_59cd_11ec_88ac_0242ac1c0002row3_col3,#T_fcdcd2c0_59cd_11ec_88ac_0242ac1c0002row4_col4,#T_fcdcd2c0_59cd_11ec_88ac_0242ac1c0002row5_col5,#T_fcdcd2c0_59cd_11ec_88ac_0242ac1c0002row6_col6,#T_fcdcd2c0_59cd_11ec_88ac_0242ac1c0002row7_col7,#T_fcdcd2c0_59cd_11ec_88ac_0242ac1c0002row8_col8,#T_fcdcd2c0_59cd_11ec_88ac_0242ac1c0002row9_col9,#T_fcdcd2c0_59cd_11ec_88ac_0242ac1c0002row10_col10{\n",
       "            background-color:  #b40426;\n",
       "            color:  #f1f1f1;\n",
       "        }#T_fcdcd2c0_59cd_11ec_88ac_0242ac1c0002row0_col1{\n",
       "            background-color:  #8fb1fe;\n",
       "            color:  #000000;\n",
       "        }#T_fcdcd2c0_59cd_11ec_88ac_0242ac1c0002row0_col2,#T_fcdcd2c0_59cd_11ec_88ac_0242ac1c0002row2_col9,#T_fcdcd2c0_59cd_11ec_88ac_0242ac1c0002row10_col1{\n",
       "            background-color:  #e4d9d2;\n",
       "            color:  #000000;\n",
       "        }#T_fcdcd2c0_59cd_11ec_88ac_0242ac1c0002row0_col3{\n",
       "            background-color:  #8db0fe;\n",
       "            color:  #000000;\n",
       "        }#T_fcdcd2c0_59cd_11ec_88ac_0242ac1c0002row0_col4{\n",
       "            background-color:  #cad8ef;\n",
       "            color:  #000000;\n",
       "        }#T_fcdcd2c0_59cd_11ec_88ac_0242ac1c0002row0_col5{\n",
       "            background-color:  #e0654f;\n",
       "            color:  #000000;\n",
       "        }#T_fcdcd2c0_59cd_11ec_88ac_0242ac1c0002row0_col6{\n",
       "            background-color:  #e57058;\n",
       "            color:  #000000;\n",
       "        }#T_fcdcd2c0_59cd_11ec_88ac_0242ac1c0002row0_col7{\n",
       "            background-color:  #f5c0a7;\n",
       "            color:  #000000;\n",
       "        }#T_fcdcd2c0_59cd_11ec_88ac_0242ac1c0002row0_col8{\n",
       "            background-color:  #92b4fe;\n",
       "            color:  #000000;\n",
       "        }#T_fcdcd2c0_59cd_11ec_88ac_0242ac1c0002row0_col9,#T_fcdcd2c0_59cd_11ec_88ac_0242ac1c0002row6_col7{\n",
       "            background-color:  #d5dbe5;\n",
       "            color:  #000000;\n",
       "        }#T_fcdcd2c0_59cd_11ec_88ac_0242ac1c0002row0_col10,#T_fcdcd2c0_59cd_11ec_88ac_0242ac1c0002row4_col2,#T_fcdcd2c0_59cd_11ec_88ac_0242ac1c0002row4_col10{\n",
       "            background-color:  #f7b99e;\n",
       "            color:  #000000;\n",
       "        }#T_fcdcd2c0_59cd_11ec_88ac_0242ac1c0002row1_col0,#T_fcdcd2c0_59cd_11ec_88ac_0242ac1c0002row5_col1{\n",
       "            background-color:  #adc9fd;\n",
       "            color:  #000000;\n",
       "        }#T_fcdcd2c0_59cd_11ec_88ac_0242ac1c0002row1_col2,#T_fcdcd2c0_59cd_11ec_88ac_0242ac1c0002row1_col7,#T_fcdcd2c0_59cd_11ec_88ac_0242ac1c0002row10_col4{\n",
       "            background-color:  #f5c2aa;\n",
       "            color:  #000000;\n",
       "        }#T_fcdcd2c0_59cd_11ec_88ac_0242ac1c0002row1_col3,#T_fcdcd2c0_59cd_11ec_88ac_0242ac1c0002row6_col3,#T_fcdcd2c0_59cd_11ec_88ac_0242ac1c0002row10_col8{\n",
       "            background-color:  #7ea1fa;\n",
       "            color:  #000000;\n",
       "        }#T_fcdcd2c0_59cd_11ec_88ac_0242ac1c0002row1_col4{\n",
       "            background-color:  #c7d7f0;\n",
       "            color:  #000000;\n",
       "        }#T_fcdcd2c0_59cd_11ec_88ac_0242ac1c0002row1_col5{\n",
       "            background-color:  #cfdaea;\n",
       "            color:  #000000;\n",
       "        }#T_fcdcd2c0_59cd_11ec_88ac_0242ac1c0002row1_col6,#T_fcdcd2c0_59cd_11ec_88ac_0242ac1c0002row7_col8,#T_fcdcd2c0_59cd_11ec_88ac_0242ac1c0002row8_col0,#T_fcdcd2c0_59cd_11ec_88ac_0242ac1c0002row8_col1,#T_fcdcd2c0_59cd_11ec_88ac_0242ac1c0002row8_col2,#T_fcdcd2c0_59cd_11ec_88ac_0242ac1c0002row8_col3,#T_fcdcd2c0_59cd_11ec_88ac_0242ac1c0002row8_col4,#T_fcdcd2c0_59cd_11ec_88ac_0242ac1c0002row8_col5,#T_fcdcd2c0_59cd_11ec_88ac_0242ac1c0002row8_col7,#T_fcdcd2c0_59cd_11ec_88ac_0242ac1c0002row8_col9,#T_fcdcd2c0_59cd_11ec_88ac_0242ac1c0002row8_col10{\n",
       "            background-color:  #3b4cc0;\n",
       "            color:  #f1f1f1;\n",
       "        }#T_fcdcd2c0_59cd_11ec_88ac_0242ac1c0002row1_col8{\n",
       "            background-color:  #aec9fc;\n",
       "            color:  #000000;\n",
       "        }#T_fcdcd2c0_59cd_11ec_88ac_0242ac1c0002row1_col9{\n",
       "            background-color:  #d9dce1;\n",
       "            color:  #000000;\n",
       "        }#T_fcdcd2c0_59cd_11ec_88ac_0242ac1c0002row1_col10{\n",
       "            background-color:  #f3c8b2;\n",
       "            color:  #000000;\n",
       "        }#T_fcdcd2c0_59cd_11ec_88ac_0242ac1c0002row2_col0,#T_fcdcd2c0_59cd_11ec_88ac_0242ac1c0002row2_col3,#T_fcdcd2c0_59cd_11ec_88ac_0242ac1c0002row7_col1{\n",
       "            background-color:  #cbd8ee;\n",
       "            color:  #000000;\n",
       "        }#T_fcdcd2c0_59cd_11ec_88ac_0242ac1c0002row2_col1{\n",
       "            background-color:  #dddcdc;\n",
       "            color:  #000000;\n",
       "        }#T_fcdcd2c0_59cd_11ec_88ac_0242ac1c0002row2_col4{\n",
       "            background-color:  #f1cdba;\n",
       "            color:  #000000;\n",
       "        }#T_fcdcd2c0_59cd_11ec_88ac_0242ac1c0002row2_col5,#T_fcdcd2c0_59cd_11ec_88ac_0242ac1c0002row9_col5{\n",
       "            background-color:  #e7d7ce;\n",
       "            color:  #000000;\n",
       "        }#T_fcdcd2c0_59cd_11ec_88ac_0242ac1c0002row2_col6{\n",
       "            background-color:  #516ddb;\n",
       "            color:  #000000;\n",
       "        }#T_fcdcd2c0_59cd_11ec_88ac_0242ac1c0002row2_col7{\n",
       "            background-color:  #e97a5f;\n",
       "            color:  #000000;\n",
       "        }#T_fcdcd2c0_59cd_11ec_88ac_0242ac1c0002row2_col8{\n",
       "            background-color:  #5d7ce6;\n",
       "            color:  #000000;\n",
       "        }#T_fcdcd2c0_59cd_11ec_88ac_0242ac1c0002row2_col10{\n",
       "            background-color:  #f6a586;\n",
       "            color:  #000000;\n",
       "        }#T_fcdcd2c0_59cd_11ec_88ac_0242ac1c0002row3_col0{\n",
       "            background-color:  #97b8ff;\n",
       "            color:  #000000;\n",
       "        }#T_fcdcd2c0_59cd_11ec_88ac_0242ac1c0002row3_col1{\n",
       "            background-color:  #6788ee;\n",
       "            color:  #000000;\n",
       "        }#T_fcdcd2c0_59cd_11ec_88ac_0242ac1c0002row3_col2{\n",
       "            background-color:  #e8d6cc;\n",
       "            color:  #000000;\n",
       "        }#T_fcdcd2c0_59cd_11ec_88ac_0242ac1c0002row3_col4{\n",
       "            background-color:  #a3c2fe;\n",
       "            color:  #000000;\n",
       "        }#T_fcdcd2c0_59cd_11ec_88ac_0242ac1c0002row3_col5{\n",
       "            background-color:  #b2ccfb;\n",
       "            color:  #000000;\n",
       "        }#T_fcdcd2c0_59cd_11ec_88ac_0242ac1c0002row3_col6{\n",
       "            background-color:  #5875e1;\n",
       "            color:  #000000;\n",
       "        }#T_fcdcd2c0_59cd_11ec_88ac_0242ac1c0002row3_col7{\n",
       "            background-color:  #ecd3c5;\n",
       "            color:  #000000;\n",
       "        }#T_fcdcd2c0_59cd_11ec_88ac_0242ac1c0002row3_col8,#T_fcdcd2c0_59cd_11ec_88ac_0242ac1c0002row5_col3{\n",
       "            background-color:  #9bbcff;\n",
       "            color:  #000000;\n",
       "        }#T_fcdcd2c0_59cd_11ec_88ac_0242ac1c0002row3_col9,#T_fcdcd2c0_59cd_11ec_88ac_0242ac1c0002row5_col9,#T_fcdcd2c0_59cd_11ec_88ac_0242ac1c0002row9_col3{\n",
       "            background-color:  #dbdcde;\n",
       "            color:  #000000;\n",
       "        }#T_fcdcd2c0_59cd_11ec_88ac_0242ac1c0002row3_col10{\n",
       "            background-color:  #ead5c9;\n",
       "            color:  #000000;\n",
       "        }#T_fcdcd2c0_59cd_11ec_88ac_0242ac1c0002row4_col0,#T_fcdcd2c0_59cd_11ec_88ac_0242ac1c0002row5_col4,#T_fcdcd2c0_59cd_11ec_88ac_0242ac1c0002row7_col9,#T_fcdcd2c0_59cd_11ec_88ac_0242ac1c0002row9_col1{\n",
       "            background-color:  #ccd9ed;\n",
       "            color:  #000000;\n",
       "        }#T_fcdcd2c0_59cd_11ec_88ac_0242ac1c0002row4_col1,#T_fcdcd2c0_59cd_11ec_88ac_0242ac1c0002row6_col2{\n",
       "            background-color:  #b1cbfc;\n",
       "            color:  #000000;\n",
       "        }#T_fcdcd2c0_59cd_11ec_88ac_0242ac1c0002row4_col3{\n",
       "            background-color:  #9dbdff;\n",
       "            color:  #000000;\n",
       "        }#T_fcdcd2c0_59cd_11ec_88ac_0242ac1c0002row4_col5{\n",
       "            background-color:  #d6dce4;\n",
       "            color:  #000000;\n",
       "        }#T_fcdcd2c0_59cd_11ec_88ac_0242ac1c0002row4_col6{\n",
       "            background-color:  #6e90f2;\n",
       "            color:  #000000;\n",
       "        }#T_fcdcd2c0_59cd_11ec_88ac_0242ac1c0002row4_col7{\n",
       "            background-color:  #f2c9b4;\n",
       "            color:  #000000;\n",
       "        }#T_fcdcd2c0_59cd_11ec_88ac_0242ac1c0002row4_col8{\n",
       "            background-color:  #93b5fe;\n",
       "            color:  #000000;\n",
       "        }#T_fcdcd2c0_59cd_11ec_88ac_0242ac1c0002row4_col9,#T_fcdcd2c0_59cd_11ec_88ac_0242ac1c0002row5_col2{\n",
       "            background-color:  #f1ccb8;\n",
       "            color:  #000000;\n",
       "        }#T_fcdcd2c0_59cd_11ec_88ac_0242ac1c0002row5_col0{\n",
       "            background-color:  #e26952;\n",
       "            color:  #000000;\n",
       "        }#T_fcdcd2c0_59cd_11ec_88ac_0242ac1c0002row5_col6{\n",
       "            background-color:  #f6a283;\n",
       "            color:  #000000;\n",
       "        }#T_fcdcd2c0_59cd_11ec_88ac_0242ac1c0002row5_col7{\n",
       "            background-color:  #f7a98b;\n",
       "            color:  #000000;\n",
       "        }#T_fcdcd2c0_59cd_11ec_88ac_0242ac1c0002row5_col8{\n",
       "            background-color:  #81a4fb;\n",
       "            color:  #000000;\n",
       "        }#T_fcdcd2c0_59cd_11ec_88ac_0242ac1c0002row5_col10{\n",
       "            background-color:  #f7b599;\n",
       "            color:  #000000;\n",
       "        }#T_fcdcd2c0_59cd_11ec_88ac_0242ac1c0002row6_col0{\n",
       "            background-color:  #df634e;\n",
       "            color:  #000000;\n",
       "        }#T_fcdcd2c0_59cd_11ec_88ac_0242ac1c0002row6_col1{\n",
       "            background-color:  #4961d2;\n",
       "            color:  #f1f1f1;\n",
       "        }#T_fcdcd2c0_59cd_11ec_88ac_0242ac1c0002row6_col4,#T_fcdcd2c0_59cd_11ec_88ac_0242ac1c0002row9_col8{\n",
       "            background-color:  #9abbff;\n",
       "            color:  #000000;\n",
       "        }#T_fcdcd2c0_59cd_11ec_88ac_0242ac1c0002row6_col5{\n",
       "            background-color:  #f08b6e;\n",
       "            color:  #000000;\n",
       "        }#T_fcdcd2c0_59cd_11ec_88ac_0242ac1c0002row6_col8{\n",
       "            background-color:  #bcd2f7;\n",
       "            color:  #000000;\n",
       "        }#T_fcdcd2c0_59cd_11ec_88ac_0242ac1c0002row6_col9{\n",
       "            background-color:  #b7cff9;\n",
       "            color:  #000000;\n",
       "        }#T_fcdcd2c0_59cd_11ec_88ac_0242ac1c0002row6_col10{\n",
       "            background-color:  #e6d7cf;\n",
       "            color:  #000000;\n",
       "        }#T_fcdcd2c0_59cd_11ec_88ac_0242ac1c0002row7_col0{\n",
       "            background-color:  #dedcdb;\n",
       "            color:  #000000;\n",
       "        }#T_fcdcd2c0_59cd_11ec_88ac_0242ac1c0002row7_col2{\n",
       "            background-color:  #ed8366;\n",
       "            color:  #000000;\n",
       "        }#T_fcdcd2c0_59cd_11ec_88ac_0242ac1c0002row7_col3{\n",
       "            background-color:  #bbd1f8;\n",
       "            color:  #000000;\n",
       "        }#T_fcdcd2c0_59cd_11ec_88ac_0242ac1c0002row7_col4{\n",
       "            background-color:  #d3dbe7;\n",
       "            color:  #000000;\n",
       "        }#T_fcdcd2c0_59cd_11ec_88ac_0242ac1c0002row7_col5{\n",
       "            background-color:  #f5c4ac;\n",
       "            color:  #000000;\n",
       "        }#T_fcdcd2c0_59cd_11ec_88ac_0242ac1c0002row7_col6{\n",
       "            background-color:  #688aef;\n",
       "            color:  #000000;\n",
       "        }#T_fcdcd2c0_59cd_11ec_88ac_0242ac1c0002row7_col10,#T_fcdcd2c0_59cd_11ec_88ac_0242ac1c0002row10_col0{\n",
       "            background-color:  #f5c1a9;\n",
       "            color:  #000000;\n",
       "        }#T_fcdcd2c0_59cd_11ec_88ac_0242ac1c0002row8_col6{\n",
       "            background-color:  #3f53c6;\n",
       "            color:  #f1f1f1;\n",
       "        }#T_fcdcd2c0_59cd_11ec_88ac_0242ac1c0002row9_col0{\n",
       "            background-color:  #dadce0;\n",
       "            color:  #000000;\n",
       "        }#T_fcdcd2c0_59cd_11ec_88ac_0242ac1c0002row9_col2{\n",
       "            background-color:  #f4c5ad;\n",
       "            color:  #000000;\n",
       "        }#T_fcdcd2c0_59cd_11ec_88ac_0242ac1c0002row9_col4,#T_fcdcd2c0_59cd_11ec_88ac_0242ac1c0002row9_col7{\n",
       "            background-color:  #f2cab5;\n",
       "            color:  #000000;\n",
       "        }#T_fcdcd2c0_59cd_11ec_88ac_0242ac1c0002row9_col6{\n",
       "            background-color:  #98b9ff;\n",
       "            color:  #000000;\n",
       "        }#T_fcdcd2c0_59cd_11ec_88ac_0242ac1c0002row9_col10{\n",
       "            background-color:  #e16751;\n",
       "            color:  #000000;\n",
       "        }#T_fcdcd2c0_59cd_11ec_88ac_0242ac1c0002row10_col2{\n",
       "            background-color:  #f4987a;\n",
       "            color:  #000000;\n",
       "        }#T_fcdcd2c0_59cd_11ec_88ac_0242ac1c0002row10_col3{\n",
       "            background-color:  #dcdddd;\n",
       "            color:  #000000;\n",
       "        }#T_fcdcd2c0_59cd_11ec_88ac_0242ac1c0002row10_col5{\n",
       "            background-color:  #f7b79b;\n",
       "            color:  #000000;\n",
       "        }#T_fcdcd2c0_59cd_11ec_88ac_0242ac1c0002row10_col6{\n",
       "            background-color:  #c3d5f4;\n",
       "            color:  #000000;\n",
       "        }#T_fcdcd2c0_59cd_11ec_88ac_0242ac1c0002row10_col7{\n",
       "            background-color:  #f7a889;\n",
       "            color:  #000000;\n",
       "        }#T_fcdcd2c0_59cd_11ec_88ac_0242ac1c0002row10_col9{\n",
       "            background-color:  #e46e56;\n",
       "            color:  #000000;\n",
       "        }</style><table id=\"T_fcdcd2c0_59cd_11ec_88ac_0242ac1c0002\" class=\"dataframe\"><thead>    <tr>        <th class=\"blank level0\" ></th>        <th class=\"col_heading level0 col0\" >screen_size</th>        <th class=\"col_heading level0 col1\" >main_camera_mp</th>        <th class=\"col_heading level0 col2\" >selfie_camera_mp</th>        <th class=\"col_heading level0 col3\" >int_memory</th>        <th class=\"col_heading level0 col4\" >ram</th>        <th class=\"col_heading level0 col5\" >battery</th>        <th class=\"col_heading level0 col6\" >weight</th>        <th class=\"col_heading level0 col7\" >release_year</th>        <th class=\"col_heading level0 col8\" >days_used</th>        <th class=\"col_heading level0 col9\" >new_price</th>        <th class=\"col_heading level0 col10\" >used_price</th>    </tr></thead><tbody>\n",
       "                <tr>\n",
       "                        <th id=\"T_fcdcd2c0_59cd_11ec_88ac_0242ac1c0002level0_row0\" class=\"row_heading level0 row0\" >screen_size</th>\n",
       "                        <td id=\"T_fcdcd2c0_59cd_11ec_88ac_0242ac1c0002row0_col0\" class=\"data row0 col0\" >1.000000</td>\n",
       "                        <td id=\"T_fcdcd2c0_59cd_11ec_88ac_0242ac1c0002row0_col1\" class=\"data row0 col1\" >0.150316</td>\n",
       "                        <td id=\"T_fcdcd2c0_59cd_11ec_88ac_0242ac1c0002row0_col2\" class=\"data row0 col2\" >0.271640</td>\n",
       "                        <td id=\"T_fcdcd2c0_59cd_11ec_88ac_0242ac1c0002row0_col3\" class=\"data row0 col3\" >0.071291</td>\n",
       "                        <td id=\"T_fcdcd2c0_59cd_11ec_88ac_0242ac1c0002row0_col4\" class=\"data row0 col4\" >0.274449</td>\n",
       "                        <td id=\"T_fcdcd2c0_59cd_11ec_88ac_0242ac1c0002row0_col5\" class=\"data row0 col5\" >0.813533</td>\n",
       "                        <td id=\"T_fcdcd2c0_59cd_11ec_88ac_0242ac1c0002row0_col6\" class=\"data row0 col6\" >0.828890</td>\n",
       "                        <td id=\"T_fcdcd2c0_59cd_11ec_88ac_0242ac1c0002row0_col7\" class=\"data row0 col7\" >0.364223</td>\n",
       "                        <td id=\"T_fcdcd2c0_59cd_11ec_88ac_0242ac1c0002row0_col8\" class=\"data row0 col8\" >-0.291723</td>\n",
       "                        <td id=\"T_fcdcd2c0_59cd_11ec_88ac_0242ac1c0002row0_col9\" class=\"data row0 col9\" >0.340895</td>\n",
       "                        <td id=\"T_fcdcd2c0_59cd_11ec_88ac_0242ac1c0002row0_col10\" class=\"data row0 col10\" >0.529275</td>\n",
       "            </tr>\n",
       "            <tr>\n",
       "                        <th id=\"T_fcdcd2c0_59cd_11ec_88ac_0242ac1c0002level0_row1\" class=\"row_heading level0 row1\" >main_camera_mp</th>\n",
       "                        <td id=\"T_fcdcd2c0_59cd_11ec_88ac_0242ac1c0002row1_col0\" class=\"data row1 col0\" >0.150316</td>\n",
       "                        <td id=\"T_fcdcd2c0_59cd_11ec_88ac_0242ac1c0002row1_col1\" class=\"data row1 col1\" >1.000000</td>\n",
       "                        <td id=\"T_fcdcd2c0_59cd_11ec_88ac_0242ac1c0002row1_col2\" class=\"data row1 col2\" >0.429264</td>\n",
       "                        <td id=\"T_fcdcd2c0_59cd_11ec_88ac_0242ac1c0002row1_col3\" class=\"data row1 col3\" >0.018766</td>\n",
       "                        <td id=\"T_fcdcd2c0_59cd_11ec_88ac_0242ac1c0002row1_col4\" class=\"data row1 col4\" >0.260802</td>\n",
       "                        <td id=\"T_fcdcd2c0_59cd_11ec_88ac_0242ac1c0002row1_col5\" class=\"data row1 col5\" >0.248563</td>\n",
       "                        <td id=\"T_fcdcd2c0_59cd_11ec_88ac_0242ac1c0002row1_col6\" class=\"data row1 col6\" >-0.087738</td>\n",
       "                        <td id=\"T_fcdcd2c0_59cd_11ec_88ac_0242ac1c0002row1_col7\" class=\"data row1 col7\" >0.353728</td>\n",
       "                        <td id=\"T_fcdcd2c0_59cd_11ec_88ac_0242ac1c0002row1_col8\" class=\"data row1 col8\" >-0.144672</td>\n",
       "                        <td id=\"T_fcdcd2c0_59cd_11ec_88ac_0242ac1c0002row1_col9\" class=\"data row1 col9\" >0.358298</td>\n",
       "                        <td id=\"T_fcdcd2c0_59cd_11ec_88ac_0242ac1c0002row1_col10\" class=\"data row1 col10\" >0.459209</td>\n",
       "            </tr>\n",
       "            <tr>\n",
       "                        <th id=\"T_fcdcd2c0_59cd_11ec_88ac_0242ac1c0002level0_row2\" class=\"row_heading level0 row2\" >selfie_camera_mp</th>\n",
       "                        <td id=\"T_fcdcd2c0_59cd_11ec_88ac_0242ac1c0002row2_col0\" class=\"data row2 col0\" >0.271640</td>\n",
       "                        <td id=\"T_fcdcd2c0_59cd_11ec_88ac_0242ac1c0002row2_col1\" class=\"data row2 col1\" >0.429264</td>\n",
       "                        <td id=\"T_fcdcd2c0_59cd_11ec_88ac_0242ac1c0002row2_col2\" class=\"data row2 col2\" >1.000000</td>\n",
       "                        <td id=\"T_fcdcd2c0_59cd_11ec_88ac_0242ac1c0002row2_col3\" class=\"data row2 col3\" >0.296426</td>\n",
       "                        <td id=\"T_fcdcd2c0_59cd_11ec_88ac_0242ac1c0002row2_col4\" class=\"data row2 col4\" >0.477411</td>\n",
       "                        <td id=\"T_fcdcd2c0_59cd_11ec_88ac_0242ac1c0002row2_col5\" class=\"data row2 col5\" >0.369709</td>\n",
       "                        <td id=\"T_fcdcd2c0_59cd_11ec_88ac_0242ac1c0002row2_col6\" class=\"data row2 col6\" >-0.004997</td>\n",
       "                        <td id=\"T_fcdcd2c0_59cd_11ec_88ac_0242ac1c0002row2_col7\" class=\"data row2 col7\" >0.690942</td>\n",
       "                        <td id=\"T_fcdcd2c0_59cd_11ec_88ac_0242ac1c0002row2_col8\" class=\"data row2 col8\" >-0.552636</td>\n",
       "                        <td id=\"T_fcdcd2c0_59cd_11ec_88ac_0242ac1c0002row2_col9\" class=\"data row2 col9\" >0.415596</td>\n",
       "                        <td id=\"T_fcdcd2c0_59cd_11ec_88ac_0242ac1c0002row2_col10\" class=\"data row2 col10\" >0.614675</td>\n",
       "            </tr>\n",
       "            <tr>\n",
       "                        <th id=\"T_fcdcd2c0_59cd_11ec_88ac_0242ac1c0002level0_row3\" class=\"row_heading level0 row3\" >int_memory</th>\n",
       "                        <td id=\"T_fcdcd2c0_59cd_11ec_88ac_0242ac1c0002row3_col0\" class=\"data row3 col0\" >0.071291</td>\n",
       "                        <td id=\"T_fcdcd2c0_59cd_11ec_88ac_0242ac1c0002row3_col1\" class=\"data row3 col1\" >0.018766</td>\n",
       "                        <td id=\"T_fcdcd2c0_59cd_11ec_88ac_0242ac1c0002row3_col2\" class=\"data row3 col2\" >0.296426</td>\n",
       "                        <td id=\"T_fcdcd2c0_59cd_11ec_88ac_0242ac1c0002row3_col3\" class=\"data row3 col3\" >1.000000</td>\n",
       "                        <td id=\"T_fcdcd2c0_59cd_11ec_88ac_0242ac1c0002row3_col4\" class=\"data row3 col4\" >0.122496</td>\n",
       "                        <td id=\"T_fcdcd2c0_59cd_11ec_88ac_0242ac1c0002row3_col5\" class=\"data row3 col5\" >0.117736</td>\n",
       "                        <td id=\"T_fcdcd2c0_59cd_11ec_88ac_0242ac1c0002row3_col6\" class=\"data row3 col6\" >0.014948</td>\n",
       "                        <td id=\"T_fcdcd2c0_59cd_11ec_88ac_0242ac1c0002row3_col7\" class=\"data row3 col7\" >0.235429</td>\n",
       "                        <td id=\"T_fcdcd2c0_59cd_11ec_88ac_0242ac1c0002row3_col8\" class=\"data row3 col8\" >-0.242712</td>\n",
       "                        <td id=\"T_fcdcd2c0_59cd_11ec_88ac_0242ac1c0002row3_col9\" class=\"data row3 col9\" >0.369145</td>\n",
       "                        <td id=\"T_fcdcd2c0_59cd_11ec_88ac_0242ac1c0002row3_col10\" class=\"data row3 col10\" >0.378347</td>\n",
       "            </tr>\n",
       "            <tr>\n",
       "                        <th id=\"T_fcdcd2c0_59cd_11ec_88ac_0242ac1c0002level0_row4\" class=\"row_heading level0 row4\" >ram</th>\n",
       "                        <td id=\"T_fcdcd2c0_59cd_11ec_88ac_0242ac1c0002row4_col0\" class=\"data row4 col0\" >0.274449</td>\n",
       "                        <td id=\"T_fcdcd2c0_59cd_11ec_88ac_0242ac1c0002row4_col1\" class=\"data row4 col1\" >0.260802</td>\n",
       "                        <td id=\"T_fcdcd2c0_59cd_11ec_88ac_0242ac1c0002row4_col2\" class=\"data row4 col2\" >0.477411</td>\n",
       "                        <td id=\"T_fcdcd2c0_59cd_11ec_88ac_0242ac1c0002row4_col3\" class=\"data row4 col3\" >0.122496</td>\n",
       "                        <td id=\"T_fcdcd2c0_59cd_11ec_88ac_0242ac1c0002row4_col4\" class=\"data row4 col4\" >1.000000</td>\n",
       "                        <td id=\"T_fcdcd2c0_59cd_11ec_88ac_0242ac1c0002row4_col5\" class=\"data row4 col5\" >0.280740</td>\n",
       "                        <td id=\"T_fcdcd2c0_59cd_11ec_88ac_0242ac1c0002row4_col6\" class=\"data row4 col6\" >0.089916</td>\n",
       "                        <td id=\"T_fcdcd2c0_59cd_11ec_88ac_0242ac1c0002row4_col7\" class=\"data row4 col7\" >0.314203</td>\n",
       "                        <td id=\"T_fcdcd2c0_59cd_11ec_88ac_0242ac1c0002row4_col8\" class=\"data row4 col8\" >-0.280066</td>\n",
       "                        <td id=\"T_fcdcd2c0_59cd_11ec_88ac_0242ac1c0002row4_col9\" class=\"data row4 col9\" >0.494293</td>\n",
       "                        <td id=\"T_fcdcd2c0_59cd_11ec_88ac_0242ac1c0002row4_col10\" class=\"data row4 col10\" >0.529434</td>\n",
       "            </tr>\n",
       "            <tr>\n",
       "                        <th id=\"T_fcdcd2c0_59cd_11ec_88ac_0242ac1c0002level0_row5\" class=\"row_heading level0 row5\" >battery</th>\n",
       "                        <td id=\"T_fcdcd2c0_59cd_11ec_88ac_0242ac1c0002row5_col0\" class=\"data row5 col0\" >0.813533</td>\n",
       "                        <td id=\"T_fcdcd2c0_59cd_11ec_88ac_0242ac1c0002row5_col1\" class=\"data row5 col1\" >0.248563</td>\n",
       "                        <td id=\"T_fcdcd2c0_59cd_11ec_88ac_0242ac1c0002row5_col2\" class=\"data row5 col2\" >0.369709</td>\n",
       "                        <td id=\"T_fcdcd2c0_59cd_11ec_88ac_0242ac1c0002row5_col3\" class=\"data row5 col3\" >0.117736</td>\n",
       "                        <td id=\"T_fcdcd2c0_59cd_11ec_88ac_0242ac1c0002row5_col4\" class=\"data row5 col4\" >0.280740</td>\n",
       "                        <td id=\"T_fcdcd2c0_59cd_11ec_88ac_0242ac1c0002row5_col5\" class=\"data row5 col5\" >1.000000</td>\n",
       "                        <td id=\"T_fcdcd2c0_59cd_11ec_88ac_0242ac1c0002row5_col6\" class=\"data row5 col6\" >0.703388</td>\n",
       "                        <td id=\"T_fcdcd2c0_59cd_11ec_88ac_0242ac1c0002row5_col7\" class=\"data row5 col7\" >0.488660</td>\n",
       "                        <td id=\"T_fcdcd2c0_59cd_11ec_88ac_0242ac1c0002row5_col8\" class=\"data row5 col8\" >-0.370895</td>\n",
       "                        <td id=\"T_fcdcd2c0_59cd_11ec_88ac_0242ac1c0002row5_col9\" class=\"data row5 col9\" >0.370490</td>\n",
       "                        <td id=\"T_fcdcd2c0_59cd_11ec_88ac_0242ac1c0002row5_col10\" class=\"data row5 col10\" >0.549647</td>\n",
       "            </tr>\n",
       "            <tr>\n",
       "                        <th id=\"T_fcdcd2c0_59cd_11ec_88ac_0242ac1c0002level0_row6\" class=\"row_heading level0 row6\" >weight</th>\n",
       "                        <td id=\"T_fcdcd2c0_59cd_11ec_88ac_0242ac1c0002row6_col0\" class=\"data row6 col0\" >0.828890</td>\n",
       "                        <td id=\"T_fcdcd2c0_59cd_11ec_88ac_0242ac1c0002row6_col1\" class=\"data row6 col1\" >-0.087738</td>\n",
       "                        <td id=\"T_fcdcd2c0_59cd_11ec_88ac_0242ac1c0002row6_col2\" class=\"data row6 col2\" >-0.004997</td>\n",
       "                        <td id=\"T_fcdcd2c0_59cd_11ec_88ac_0242ac1c0002row6_col3\" class=\"data row6 col3\" >0.014948</td>\n",
       "                        <td id=\"T_fcdcd2c0_59cd_11ec_88ac_0242ac1c0002row6_col4\" class=\"data row6 col4\" >0.089916</td>\n",
       "                        <td id=\"T_fcdcd2c0_59cd_11ec_88ac_0242ac1c0002row6_col5\" class=\"data row6 col5\" >0.703388</td>\n",
       "                        <td id=\"T_fcdcd2c0_59cd_11ec_88ac_0242ac1c0002row6_col6\" class=\"data row6 col6\" >1.000000</td>\n",
       "                        <td id=\"T_fcdcd2c0_59cd_11ec_88ac_0242ac1c0002row6_col7\" class=\"data row6 col7\" >0.071290</td>\n",
       "                        <td id=\"T_fcdcd2c0_59cd_11ec_88ac_0242ac1c0002row6_col8\" class=\"data row6 col8\" >-0.067470</td>\n",
       "                        <td id=\"T_fcdcd2c0_59cd_11ec_88ac_0242ac1c0002row6_col9\" class=\"data row6 col9\" >0.219115</td>\n",
       "                        <td id=\"T_fcdcd2c0_59cd_11ec_88ac_0242ac1c0002row6_col10\" class=\"data row6 col10\" >0.357983</td>\n",
       "            </tr>\n",
       "            <tr>\n",
       "                        <th id=\"T_fcdcd2c0_59cd_11ec_88ac_0242ac1c0002level0_row7\" class=\"row_heading level0 row7\" >release_year</th>\n",
       "                        <td id=\"T_fcdcd2c0_59cd_11ec_88ac_0242ac1c0002row7_col0\" class=\"data row7 col0\" >0.364223</td>\n",
       "                        <td id=\"T_fcdcd2c0_59cd_11ec_88ac_0242ac1c0002row7_col1\" class=\"data row7 col1\" >0.353728</td>\n",
       "                        <td id=\"T_fcdcd2c0_59cd_11ec_88ac_0242ac1c0002row7_col2\" class=\"data row7 col2\" >0.690942</td>\n",
       "                        <td id=\"T_fcdcd2c0_59cd_11ec_88ac_0242ac1c0002row7_col3\" class=\"data row7 col3\" >0.235429</td>\n",
       "                        <td id=\"T_fcdcd2c0_59cd_11ec_88ac_0242ac1c0002row7_col4\" class=\"data row7 col4\" >0.314203</td>\n",
       "                        <td id=\"T_fcdcd2c0_59cd_11ec_88ac_0242ac1c0002row7_col5\" class=\"data row7 col5\" >0.488660</td>\n",
       "                        <td id=\"T_fcdcd2c0_59cd_11ec_88ac_0242ac1c0002row7_col6\" class=\"data row7 col6\" >0.071290</td>\n",
       "                        <td id=\"T_fcdcd2c0_59cd_11ec_88ac_0242ac1c0002row7_col7\" class=\"data row7 col7\" >1.000000</td>\n",
       "                        <td id=\"T_fcdcd2c0_59cd_11ec_88ac_0242ac1c0002row7_col8\" class=\"data row7 col8\" >-0.750390</td>\n",
       "                        <td id=\"T_fcdcd2c0_59cd_11ec_88ac_0242ac1c0002row7_col9\" class=\"data row7 col9\" >0.303571</td>\n",
       "                        <td id=\"T_fcdcd2c0_59cd_11ec_88ac_0242ac1c0002row7_col10\" class=\"data row7 col10\" >0.494910</td>\n",
       "            </tr>\n",
       "            <tr>\n",
       "                        <th id=\"T_fcdcd2c0_59cd_11ec_88ac_0242ac1c0002level0_row8\" class=\"row_heading level0 row8\" >days_used</th>\n",
       "                        <td id=\"T_fcdcd2c0_59cd_11ec_88ac_0242ac1c0002row8_col0\" class=\"data row8 col0\" >-0.291723</td>\n",
       "                        <td id=\"T_fcdcd2c0_59cd_11ec_88ac_0242ac1c0002row8_col1\" class=\"data row8 col1\" >-0.144672</td>\n",
       "                        <td id=\"T_fcdcd2c0_59cd_11ec_88ac_0242ac1c0002row8_col2\" class=\"data row8 col2\" >-0.552636</td>\n",
       "                        <td id=\"T_fcdcd2c0_59cd_11ec_88ac_0242ac1c0002row8_col3\" class=\"data row8 col3\" >-0.242712</td>\n",
       "                        <td id=\"T_fcdcd2c0_59cd_11ec_88ac_0242ac1c0002row8_col4\" class=\"data row8 col4\" >-0.280066</td>\n",
       "                        <td id=\"T_fcdcd2c0_59cd_11ec_88ac_0242ac1c0002row8_col5\" class=\"data row8 col5\" >-0.370895</td>\n",
       "                        <td id=\"T_fcdcd2c0_59cd_11ec_88ac_0242ac1c0002row8_col6\" class=\"data row8 col6\" >-0.067470</td>\n",
       "                        <td id=\"T_fcdcd2c0_59cd_11ec_88ac_0242ac1c0002row8_col7\" class=\"data row8 col7\" >-0.750390</td>\n",
       "                        <td id=\"T_fcdcd2c0_59cd_11ec_88ac_0242ac1c0002row8_col8\" class=\"data row8 col8\" >1.000000</td>\n",
       "                        <td id=\"T_fcdcd2c0_59cd_11ec_88ac_0242ac1c0002row8_col9\" class=\"data row8 col9\" >-0.246353</td>\n",
       "                        <td id=\"T_fcdcd2c0_59cd_11ec_88ac_0242ac1c0002row8_col10\" class=\"data row8 col10\" >-0.385777</td>\n",
       "            </tr>\n",
       "            <tr>\n",
       "                        <th id=\"T_fcdcd2c0_59cd_11ec_88ac_0242ac1c0002level0_row9\" class=\"row_heading level0 row9\" >new_price</th>\n",
       "                        <td id=\"T_fcdcd2c0_59cd_11ec_88ac_0242ac1c0002row9_col0\" class=\"data row9 col0\" >0.340895</td>\n",
       "                        <td id=\"T_fcdcd2c0_59cd_11ec_88ac_0242ac1c0002row9_col1\" class=\"data row9 col1\" >0.358298</td>\n",
       "                        <td id=\"T_fcdcd2c0_59cd_11ec_88ac_0242ac1c0002row9_col2\" class=\"data row9 col2\" >0.415596</td>\n",
       "                        <td id=\"T_fcdcd2c0_59cd_11ec_88ac_0242ac1c0002row9_col3\" class=\"data row9 col3\" >0.369145</td>\n",
       "                        <td id=\"T_fcdcd2c0_59cd_11ec_88ac_0242ac1c0002row9_col4\" class=\"data row9 col4\" >0.494293</td>\n",
       "                        <td id=\"T_fcdcd2c0_59cd_11ec_88ac_0242ac1c0002row9_col5\" class=\"data row9 col5\" >0.370490</td>\n",
       "                        <td id=\"T_fcdcd2c0_59cd_11ec_88ac_0242ac1c0002row9_col6\" class=\"data row9 col6\" >0.219115</td>\n",
       "                        <td id=\"T_fcdcd2c0_59cd_11ec_88ac_0242ac1c0002row9_col7\" class=\"data row9 col7\" >0.303571</td>\n",
       "                        <td id=\"T_fcdcd2c0_59cd_11ec_88ac_0242ac1c0002row9_col8\" class=\"data row9 col8\" >-0.246353</td>\n",
       "                        <td id=\"T_fcdcd2c0_59cd_11ec_88ac_0242ac1c0002row9_col9\" class=\"data row9 col9\" >1.000000</td>\n",
       "                        <td id=\"T_fcdcd2c0_59cd_11ec_88ac_0242ac1c0002row9_col10\" class=\"data row9 col10\" >0.809335</td>\n",
       "            </tr>\n",
       "            <tr>\n",
       "                        <th id=\"T_fcdcd2c0_59cd_11ec_88ac_0242ac1c0002level0_row10\" class=\"row_heading level0 row10\" >used_price</th>\n",
       "                        <td id=\"T_fcdcd2c0_59cd_11ec_88ac_0242ac1c0002row10_col0\" class=\"data row10 col0\" >0.529275</td>\n",
       "                        <td id=\"T_fcdcd2c0_59cd_11ec_88ac_0242ac1c0002row10_col1\" class=\"data row10 col1\" >0.459209</td>\n",
       "                        <td id=\"T_fcdcd2c0_59cd_11ec_88ac_0242ac1c0002row10_col2\" class=\"data row10 col2\" >0.614675</td>\n",
       "                        <td id=\"T_fcdcd2c0_59cd_11ec_88ac_0242ac1c0002row10_col3\" class=\"data row10 col3\" >0.378347</td>\n",
       "                        <td id=\"T_fcdcd2c0_59cd_11ec_88ac_0242ac1c0002row10_col4\" class=\"data row10 col4\" >0.529434</td>\n",
       "                        <td id=\"T_fcdcd2c0_59cd_11ec_88ac_0242ac1c0002row10_col5\" class=\"data row10 col5\" >0.549647</td>\n",
       "                        <td id=\"T_fcdcd2c0_59cd_11ec_88ac_0242ac1c0002row10_col6\" class=\"data row10 col6\" >0.357983</td>\n",
       "                        <td id=\"T_fcdcd2c0_59cd_11ec_88ac_0242ac1c0002row10_col7\" class=\"data row10 col7\" >0.494910</td>\n",
       "                        <td id=\"T_fcdcd2c0_59cd_11ec_88ac_0242ac1c0002row10_col8\" class=\"data row10 col8\" >-0.385777</td>\n",
       "                        <td id=\"T_fcdcd2c0_59cd_11ec_88ac_0242ac1c0002row10_col9\" class=\"data row10 col9\" >0.809335</td>\n",
       "                        <td id=\"T_fcdcd2c0_59cd_11ec_88ac_0242ac1c0002row10_col10\" class=\"data row10 col10\" >1.000000</td>\n",
       "            </tr>\n",
       "    </tbody></table>"
      ],
      "text/plain": [
       "<pandas.io.formats.style.Styler at 0x7f9be25f65d0>"
      ]
     },
     "execution_count": 17,
     "metadata": {},
     "output_type": "execute_result"
    }
   ],
   "source": [
    "#Which attributes are highly correlated with the price of a used device?\n",
    "#correlation between features\n",
    "corr = df.corr()\n",
    "corr.style.background_gradient(cmap='coolwarm')"
   ]
  },
  {
   "cell_type": "markdown",
   "metadata": {
    "id": "sG_z8NwT7-ho"
   },
   "source": [
    "It can be observed that the price of used devices is highly correlated to:\n",
    "    screen_size,selfie_camera_mp,ram, battery, and new_price\n",
    "    "
   ]
  },
  {
   "cell_type": "markdown",
   "metadata": {
    "id": "pVn5toJ7MKte"
   },
   "source": [
    "## Data Preprocessing\n",
    "\n",
    "- Missing value treatment\n",
    "- Feature engineering (if needed)\n",
    "- Outlier detection and treatment (if needed)\n",
    "- Preparing data for modeling\n",
    "- Any other preprocessing steps (if needed)"
   ]
  },
  {
   "cell_type": "code",
   "execution_count": 18,
   "metadata": {
    "colab": {
     "base_uri": "https://localhost:8080/"
    },
    "id": "zUi6E9EUMKth",
    "outputId": "71126a1e-3a08-4cf7-f72b-e0d26a6b540e"
   },
   "outputs": [
    {
     "data": {
      "text/plain": [
       "brand_name          0\n",
       "os                  0\n",
       "screen_size         0\n",
       "4g                  0\n",
       "5g                  0\n",
       "main_camera_mp      0\n",
       "selfie_camera_mp    0\n",
       "int_memory          0\n",
       "ram                 0\n",
       "battery             0\n",
       "weight              0\n",
       "release_year        0\n",
       "days_used           0\n",
       "new_price           0\n",
       "used_price          0\n",
       "dtype: int64"
      ]
     },
     "execution_count": 18,
     "metadata": {},
     "output_type": "execute_result"
    }
   ],
   "source": [
    "##Missing value treatment\n",
    "## drop all missing values from the data\n",
    "df2= df.dropna()\n",
    "##Confirm whether there are NaN/missing values\n",
    "df2.isnull().sum()"
   ]
  },
  {
   "cell_type": "markdown",
   "metadata": {
    "id": "hsCxhQ8a7-hp"
   },
   "source": [
    "It can be observed that all missing values have been dropped"
   ]
  },
  {
   "cell_type": "code",
   "execution_count": 19,
   "metadata": {
    "colab": {
     "base_uri": "https://localhost:8080/",
     "height": 297
    },
    "id": "2Jhdb56s7-hq",
    "outputId": "8f1bdf63-4199-47ab-a153-32454140f888"
   },
   "outputs": [
    {
     "data": {
      "text/html": [
       "<div>\n",
       "<style scoped>\n",
       "    .dataframe tbody tr th:only-of-type {\n",
       "        vertical-align: middle;\n",
       "    }\n",
       "\n",
       "    .dataframe tbody tr th {\n",
       "        vertical-align: top;\n",
       "    }\n",
       "\n",
       "    .dataframe thead th {\n",
       "        text-align: right;\n",
       "    }\n",
       "</style>\n",
       "<table border=\"1\" class=\"dataframe\">\n",
       "  <thead>\n",
       "    <tr style=\"text-align: right;\">\n",
       "      <th></th>\n",
       "      <th>screen_size</th>\n",
       "      <th>main_camera_mp</th>\n",
       "      <th>selfie_camera_mp</th>\n",
       "      <th>int_memory</th>\n",
       "      <th>ram</th>\n",
       "      <th>battery</th>\n",
       "      <th>weight</th>\n",
       "      <th>release_year</th>\n",
       "      <th>days_used</th>\n",
       "      <th>new_price</th>\n",
       "      <th>used_price</th>\n",
       "    </tr>\n",
       "  </thead>\n",
       "  <tbody>\n",
       "    <tr>\n",
       "      <th>count</th>\n",
       "      <td>3253.000000</td>\n",
       "      <td>3253.000000</td>\n",
       "      <td>3253.00000</td>\n",
       "      <td>3253.000000</td>\n",
       "      <td>3253.000000</td>\n",
       "      <td>3253.000000</td>\n",
       "      <td>3253.000000</td>\n",
       "      <td>3253.000000</td>\n",
       "      <td>3253.000000</td>\n",
       "      <td>3253.000000</td>\n",
       "      <td>3253.000000</td>\n",
       "    </tr>\n",
       "    <tr>\n",
       "      <th>mean</th>\n",
       "      <td>13.617476</td>\n",
       "      <td>9.476354</td>\n",
       "      <td>6.09379</td>\n",
       "      <td>52.098632</td>\n",
       "      <td>3.962960</td>\n",
       "      <td>3074.926990</td>\n",
       "      <td>182.493637</td>\n",
       "      <td>2015.766370</td>\n",
       "      <td>695.695358</td>\n",
       "      <td>231.672613</td>\n",
       "      <td>89.882604</td>\n",
       "    </tr>\n",
       "    <tr>\n",
       "      <th>std</th>\n",
       "      <td>3.851520</td>\n",
       "      <td>4.802200</td>\n",
       "      <td>6.59958</td>\n",
       "      <td>85.442242</td>\n",
       "      <td>1.225895</td>\n",
       "      <td>1296.957619</td>\n",
       "      <td>90.359810</td>\n",
       "      <td>2.187719</td>\n",
       "      <td>235.454084</td>\n",
       "      <td>189.364479</td>\n",
       "      <td>53.084543</td>\n",
       "    </tr>\n",
       "    <tr>\n",
       "      <th>min</th>\n",
       "      <td>5.080000</td>\n",
       "      <td>0.080000</td>\n",
       "      <td>0.00000</td>\n",
       "      <td>0.010000</td>\n",
       "      <td>0.020000</td>\n",
       "      <td>500.000000</td>\n",
       "      <td>69.000000</td>\n",
       "      <td>2013.000000</td>\n",
       "      <td>91.000000</td>\n",
       "      <td>18.200000</td>\n",
       "      <td>4.650000</td>\n",
       "    </tr>\n",
       "    <tr>\n",
       "      <th>25%</th>\n",
       "      <td>12.700000</td>\n",
       "      <td>5.000000</td>\n",
       "      <td>2.00000</td>\n",
       "      <td>16.000000</td>\n",
       "      <td>4.000000</td>\n",
       "      <td>2100.000000</td>\n",
       "      <td>140.450000</td>\n",
       "      <td>2014.000000</td>\n",
       "      <td>564.000000</td>\n",
       "      <td>120.200000</td>\n",
       "      <td>55.660000</td>\n",
       "    </tr>\n",
       "    <tr>\n",
       "      <th>50%</th>\n",
       "      <td>12.830000</td>\n",
       "      <td>8.000000</td>\n",
       "      <td>5.00000</td>\n",
       "      <td>32.000000</td>\n",
       "      <td>4.000000</td>\n",
       "      <td>3000.000000</td>\n",
       "      <td>158.000000</td>\n",
       "      <td>2015.000000</td>\n",
       "      <td>705.000000</td>\n",
       "      <td>189.090000</td>\n",
       "      <td>79.650000</td>\n",
       "    </tr>\n",
       "    <tr>\n",
       "      <th>75%</th>\n",
       "      <td>15.320000</td>\n",
       "      <td>13.000000</td>\n",
       "      <td>8.00000</td>\n",
       "      <td>64.000000</td>\n",
       "      <td>4.000000</td>\n",
       "      <td>3950.000000</td>\n",
       "      <td>182.000000</td>\n",
       "      <td>2018.000000</td>\n",
       "      <td>879.000000</td>\n",
       "      <td>280.920000</td>\n",
       "      <td>112.800000</td>\n",
       "    </tr>\n",
       "    <tr>\n",
       "      <th>max</th>\n",
       "      <td>30.710000</td>\n",
       "      <td>48.000000</td>\n",
       "      <td>32.00000</td>\n",
       "      <td>1024.000000</td>\n",
       "      <td>12.000000</td>\n",
       "      <td>9720.000000</td>\n",
       "      <td>855.000000</td>\n",
       "      <td>2020.000000</td>\n",
       "      <td>1094.000000</td>\n",
       "      <td>2560.200000</td>\n",
       "      <td>749.520000</td>\n",
       "    </tr>\n",
       "  </tbody>\n",
       "</table>\n",
       "</div>"
      ],
      "text/plain": [
       "       screen_size  main_camera_mp  ...    new_price   used_price\n",
       "count  3253.000000     3253.000000  ...  3253.000000  3253.000000\n",
       "mean     13.617476        9.476354  ...   231.672613    89.882604\n",
       "std       3.851520        4.802200  ...   189.364479    53.084543\n",
       "min       5.080000        0.080000  ...    18.200000     4.650000\n",
       "25%      12.700000        5.000000  ...   120.200000    55.660000\n",
       "50%      12.830000        8.000000  ...   189.090000    79.650000\n",
       "75%      15.320000       13.000000  ...   280.920000   112.800000\n",
       "max      30.710000       48.000000  ...  2560.200000   749.520000\n",
       "\n",
       "[8 rows x 11 columns]"
      ]
     },
     "execution_count": 19,
     "metadata": {},
     "output_type": "execute_result"
    }
   ],
   "source": [
    "#outliers\n",
    "#observe statistics\n",
    "df2.describe()"
   ]
  },
  {
   "cell_type": "markdown",
   "metadata": {
    "id": "x1mhXdSu7-hq"
   },
   "source": [
    "It can be observed that there are no extreme large or small values hence it can said that the dataset does not have outliers."
   ]
  },
  {
   "cell_type": "code",
   "execution_count": 20,
   "metadata": {
    "colab": {
     "base_uri": "https://localhost:8080/",
     "height": 142
    },
    "id": "zyFPKRlj7-hq",
    "outputId": "492ef636-055e-4607-ade9-09da7133c14d"
   },
   "outputs": [
    {
     "data": {
      "text/html": [
       "<div>\n",
       "<style scoped>\n",
       "    .dataframe tbody tr th:only-of-type {\n",
       "        vertical-align: middle;\n",
       "    }\n",
       "\n",
       "    .dataframe tbody tr th {\n",
       "        vertical-align: top;\n",
       "    }\n",
       "\n",
       "    .dataframe thead th {\n",
       "        text-align: right;\n",
       "    }\n",
       "</style>\n",
       "<table border=\"1\" class=\"dataframe\">\n",
       "  <thead>\n",
       "    <tr style=\"text-align: right;\">\n",
       "      <th></th>\n",
       "      <th>brand_name</th>\n",
       "      <th>os</th>\n",
       "      <th>screen_size</th>\n",
       "      <th>4g</th>\n",
       "      <th>5g</th>\n",
       "      <th>main_camera_mp</th>\n",
       "      <th>selfie_camera_mp</th>\n",
       "      <th>int_memory</th>\n",
       "      <th>ram</th>\n",
       "      <th>battery</th>\n",
       "      <th>weight</th>\n",
       "      <th>release_year</th>\n",
       "      <th>days_used</th>\n",
       "      <th>new_price</th>\n",
       "      <th>used_price</th>\n",
       "    </tr>\n",
       "  </thead>\n",
       "  <tbody>\n",
       "    <tr>\n",
       "      <th>0</th>\n",
       "      <td>Honor</td>\n",
       "      <td>Android</td>\n",
       "      <td>14.50</td>\n",
       "      <td>yes</td>\n",
       "      <td>no</td>\n",
       "      <td>13.0</td>\n",
       "      <td>5.0</td>\n",
       "      <td>64.0</td>\n",
       "      <td>3.0</td>\n",
       "      <td>3020.0</td>\n",
       "      <td>146.0</td>\n",
       "      <td>2020</td>\n",
       "      <td>127</td>\n",
       "      <td>111.62</td>\n",
       "      <td>74.26</td>\n",
       "    </tr>\n",
       "    <tr>\n",
       "      <th>1</th>\n",
       "      <td>Honor</td>\n",
       "      <td>Android</td>\n",
       "      <td>17.30</td>\n",
       "      <td>yes</td>\n",
       "      <td>yes</td>\n",
       "      <td>13.0</td>\n",
       "      <td>16.0</td>\n",
       "      <td>128.0</td>\n",
       "      <td>8.0</td>\n",
       "      <td>4300.0</td>\n",
       "      <td>213.0</td>\n",
       "      <td>2020</td>\n",
       "      <td>325</td>\n",
       "      <td>249.39</td>\n",
       "      <td>174.53</td>\n",
       "    </tr>\n",
       "    <tr>\n",
       "      <th>2</th>\n",
       "      <td>Honor</td>\n",
       "      <td>Android</td>\n",
       "      <td>16.69</td>\n",
       "      <td>yes</td>\n",
       "      <td>yes</td>\n",
       "      <td>13.0</td>\n",
       "      <td>8.0</td>\n",
       "      <td>128.0</td>\n",
       "      <td>8.0</td>\n",
       "      <td>4200.0</td>\n",
       "      <td>213.0</td>\n",
       "      <td>2020</td>\n",
       "      <td>162</td>\n",
       "      <td>359.47</td>\n",
       "      <td>165.85</td>\n",
       "    </tr>\n",
       "  </tbody>\n",
       "</table>\n",
       "</div>"
      ],
      "text/plain": [
       "  brand_name       os  screen_size  ... days_used new_price  used_price\n",
       "0      Honor  Android        14.50  ...       127    111.62       74.26\n",
       "1      Honor  Android        17.30  ...       325    249.39      174.53\n",
       "2      Honor  Android        16.69  ...       162    359.47      165.85\n",
       "\n",
       "[3 rows x 15 columns]"
      ]
     },
     "execution_count": 20,
     "metadata": {},
     "output_type": "execute_result"
    }
   ],
   "source": [
    "df2.head(3)"
   ]
  },
  {
   "cell_type": "code",
   "execution_count": 21,
   "metadata": {
    "id": "zneEg-KS7-hq"
   },
   "outputs": [],
   "source": [
    "## Preparing data for modeling\n",
    "## drop some of the columns that cannot be used in linear regression\n",
    "df3 = df2.copy()\n",
    "df3.drop(['brand_name','os','4g','5g','release_year'],axis=1,inplace=True)\n"
   ]
  },
  {
   "cell_type": "code",
   "execution_count": 22,
   "metadata": {
    "colab": {
     "base_uri": "https://localhost:8080/",
     "height": 204
    },
    "id": "JjFOCZd27-hq",
    "outputId": "e5d1eb2c-c34d-408e-8dbd-5a069b465e14"
   },
   "outputs": [
    {
     "data": {
      "text/html": [
       "<div>\n",
       "<style scoped>\n",
       "    .dataframe tbody tr th:only-of-type {\n",
       "        vertical-align: middle;\n",
       "    }\n",
       "\n",
       "    .dataframe tbody tr th {\n",
       "        vertical-align: top;\n",
       "    }\n",
       "\n",
       "    .dataframe thead th {\n",
       "        text-align: right;\n",
       "    }\n",
       "</style>\n",
       "<table border=\"1\" class=\"dataframe\">\n",
       "  <thead>\n",
       "    <tr style=\"text-align: right;\">\n",
       "      <th></th>\n",
       "      <th>screen_size</th>\n",
       "      <th>main_camera_mp</th>\n",
       "      <th>selfie_camera_mp</th>\n",
       "      <th>int_memory</th>\n",
       "      <th>ram</th>\n",
       "      <th>battery</th>\n",
       "      <th>weight</th>\n",
       "      <th>days_used</th>\n",
       "      <th>new_price</th>\n",
       "      <th>used_price</th>\n",
       "    </tr>\n",
       "  </thead>\n",
       "  <tbody>\n",
       "    <tr>\n",
       "      <th>0</th>\n",
       "      <td>14.50</td>\n",
       "      <td>13.0</td>\n",
       "      <td>5.0</td>\n",
       "      <td>64.0</td>\n",
       "      <td>3.0</td>\n",
       "      <td>3020.0</td>\n",
       "      <td>146.0</td>\n",
       "      <td>127</td>\n",
       "      <td>111.62</td>\n",
       "      <td>74.26</td>\n",
       "    </tr>\n",
       "    <tr>\n",
       "      <th>1</th>\n",
       "      <td>17.30</td>\n",
       "      <td>13.0</td>\n",
       "      <td>16.0</td>\n",
       "      <td>128.0</td>\n",
       "      <td>8.0</td>\n",
       "      <td>4300.0</td>\n",
       "      <td>213.0</td>\n",
       "      <td>325</td>\n",
       "      <td>249.39</td>\n",
       "      <td>174.53</td>\n",
       "    </tr>\n",
       "    <tr>\n",
       "      <th>2</th>\n",
       "      <td>16.69</td>\n",
       "      <td>13.0</td>\n",
       "      <td>8.0</td>\n",
       "      <td>128.0</td>\n",
       "      <td>8.0</td>\n",
       "      <td>4200.0</td>\n",
       "      <td>213.0</td>\n",
       "      <td>162</td>\n",
       "      <td>359.47</td>\n",
       "      <td>165.85</td>\n",
       "    </tr>\n",
       "    <tr>\n",
       "      <th>3</th>\n",
       "      <td>25.50</td>\n",
       "      <td>13.0</td>\n",
       "      <td>8.0</td>\n",
       "      <td>64.0</td>\n",
       "      <td>6.0</td>\n",
       "      <td>7250.0</td>\n",
       "      <td>480.0</td>\n",
       "      <td>345</td>\n",
       "      <td>278.93</td>\n",
       "      <td>169.93</td>\n",
       "    </tr>\n",
       "    <tr>\n",
       "      <th>4</th>\n",
       "      <td>15.32</td>\n",
       "      <td>13.0</td>\n",
       "      <td>8.0</td>\n",
       "      <td>64.0</td>\n",
       "      <td>3.0</td>\n",
       "      <td>5000.0</td>\n",
       "      <td>185.0</td>\n",
       "      <td>293</td>\n",
       "      <td>140.87</td>\n",
       "      <td>80.64</td>\n",
       "    </tr>\n",
       "  </tbody>\n",
       "</table>\n",
       "</div>"
      ],
      "text/plain": [
       "   screen_size  main_camera_mp  ...  new_price  used_price\n",
       "0        14.50            13.0  ...     111.62       74.26\n",
       "1        17.30            13.0  ...     249.39      174.53\n",
       "2        16.69            13.0  ...     359.47      165.85\n",
       "3        25.50            13.0  ...     278.93      169.93\n",
       "4        15.32            13.0  ...     140.87       80.64\n",
       "\n",
       "[5 rows x 10 columns]"
      ]
     },
     "execution_count": 22,
     "metadata": {},
     "output_type": "execute_result"
    }
   ],
   "source": [
    "##observe final data that will be used for modelling\n",
    "##working dataset\n",
    "dataset = df3\n",
    "dataset.head()"
   ]
  },
  {
   "cell_type": "markdown",
   "metadata": {
    "id": "MNKvFxwA7-hr"
   },
   "source": [
    "Only the numerical variables are retained for y use in the multiple linear regression model"
   ]
  },
  {
   "cell_type": "markdown",
   "metadata": {
    "id": "KNzFis7eEaXj"
   },
   "source": [
    "## EDA\n",
    "\n",
    "- It is a good idea to explore the data once again after manipulating it."
   ]
  },
  {
   "cell_type": "code",
   "execution_count": 23,
   "metadata": {
    "colab": {
     "base_uri": "https://localhost:8080/",
     "height": 351
    },
    "id": "4lcDTGi9EZ1M",
    "outputId": "3866c838-4098-4a6c-f426-6ccc50ff9a6f"
   },
   "outputs": [
    {
     "data": {
      "image/png": "[encoded data removed]",
      "text/plain": [
       "<Figure size 720x360 with 1 Axes>"
      ]
     },
     "metadata": {
      "needs_background": "light"
     },
     "output_type": "display_data"
    }
   ],
   "source": [
    "#What does the distribution of used device prices look like?\n",
    "#check price distribution\n",
    "plt.figure(figsize=(10,5))\n",
    "sns.distplot(df2['used_price'],color=\"green\")\n",
    "plt.grid()\n",
    "plt.title(\"Used device Prices Distribution\")\n",
    "plt.show()"
   ]
  },
  {
   "cell_type": "code",
   "execution_count": 24,
   "metadata": {
    "colab": {
     "base_uri": "https://localhost:8080/",
     "height": 204
    },
    "id": "DbD-8NOz7-hs",
    "outputId": "aa8de618-50bc-417f-a91d-b3422217cc1a"
   },
   "outputs": [
    {
     "data": {
      "text/html": [
       "<div>\n",
       "<style scoped>\n",
       "    .dataframe tbody tr th:only-of-type {\n",
       "        vertical-align: middle;\n",
       "    }\n",
       "\n",
       "    .dataframe tbody tr th {\n",
       "        vertical-align: top;\n",
       "    }\n",
       "\n",
       "    .dataframe thead th {\n",
       "        text-align: right;\n",
       "    }\n",
       "</style>\n",
       "<table border=\"1\" class=\"dataframe\">\n",
       "  <thead>\n",
       "    <tr style=\"text-align: right;\">\n",
       "      <th></th>\n",
       "      <th>Count</th>\n",
       "      <th>Percentage</th>\n",
       "    </tr>\n",
       "    <tr>\n",
       "      <th>os</th>\n",
       "      <th></th>\n",
       "      <th></th>\n",
       "    </tr>\n",
       "  </thead>\n",
       "  <tbody>\n",
       "    <tr>\n",
       "      <th>Android</th>\n",
       "      <td>3024</td>\n",
       "      <td>92.960344</td>\n",
       "    </tr>\n",
       "    <tr>\n",
       "      <th>Others</th>\n",
       "      <td>128</td>\n",
       "      <td>3.934829</td>\n",
       "    </tr>\n",
       "    <tr>\n",
       "      <th>Windows</th>\n",
       "      <td>65</td>\n",
       "      <td>1.998156</td>\n",
       "    </tr>\n",
       "    <tr>\n",
       "      <th>iOS</th>\n",
       "      <td>36</td>\n",
       "      <td>1.106671</td>\n",
       "    </tr>\n",
       "  </tbody>\n",
       "</table>\n",
       "</div>"
      ],
      "text/plain": [
       "         Count  Percentage\n",
       "os                        \n",
       "Android   3024   92.960344\n",
       "Others     128    3.934829\n",
       "Windows     65    1.998156\n",
       "iOS         36    1.106671"
      ]
     },
     "execution_count": 24,
     "metadata": {},
     "output_type": "execute_result"
    }
   ],
   "source": [
    "#What percentage of the used device market is dominated by Android devices?\n",
    "android2 = df2.groupby('os')['brand_name'].size()\n",
    "android2 = pd.DataFrame(android2)\n",
    "android2['Percentage'] = 100 * android2['brand_name']  / android2['brand_name'].sum()\n",
    "android2.rename(columns={'brand_name': 'Count'}, inplace = True)\n",
    "android2"
   ]
  },
  {
   "cell_type": "markdown",
   "metadata": {
    "id": "xLtJJU3v7-hs"
   },
   "source": [
    "Android OS dominates 92.96% of the used device market."
   ]
  },
  {
   "cell_type": "code",
   "execution_count": 26,
   "metadata": {
    "colab": {
     "base_uri": "https://localhost:8080/",
     "height": 395
    },
    "id": "SYbMW4Sq7-hs",
    "outputId": "6c90c774-6b70-4451-e12d-11073bab12ae"
   },
   "outputs": [
    {
     "data": {
      "image/png": "[encoded data removed]",
      "text/plain": [
       "<Figure size 864x360 with 1 Axes>"
      ]
     },
     "metadata": {
      "needs_background": "light"
     },
     "output_type": "display_data"
    }
   ],
   "source": [
    "#The amount of RAM is important for the smooth functioning of a device. How does the amount of RAM vary with the brand?\n",
    "#ram vs brand\n",
    "plt.figure(figsize=(12,5))\n",
    "sns.barplot(df2['brand_name'],df2['ram'])\n",
    "plt.grid()\n",
    "plt.title(\"Brands vs RAM\")\n",
    "plt.xticks(rotation=90)\n",
    "plt.show()"
   ]
  },
  {
   "cell_type": "markdown",
   "metadata": {
    "id": "cQUPolmB7-hs"
   },
   "source": [
    "It can be observed that Honor, Huawei and Google are the brands whose phone have the largest RAM while Celkon brand has the lowest RAM."
   ]
  },
  {
   "cell_type": "code",
   "execution_count": 27,
   "metadata": {
    "colab": {
     "base_uri": "https://localhost:8080/"
    },
    "id": "y0tRIouC7-hs",
    "outputId": "a7cabda2-fed9-4331-ce03-effeecb457de"
   },
   "outputs": [
    {
     "data": {
      "text/plain": [
       "287"
      ]
     },
     "execution_count": 27,
     "metadata": {},
     "output_type": "execute_result"
    }
   ],
   "source": [
    "#A large battery often increases a device's weight, making it feel uncomfortable in the hands. \n",
    "#How does the weight vary for phones and tablets offering large batteries (more than 4500 mAh)?\n",
    "###Filter data to obtain devices with more than 4500mAh\n",
    "battery2 = df2[df2['battery'] > 4500]\n",
    "battery2.shape[0]"
   ]
  },
  {
   "cell_type": "code",
   "execution_count": 28,
   "metadata": {
    "colab": {
     "base_uri": "https://localhost:8080/",
     "height": 395
    },
    "id": "2kDcJytv7-hs",
    "outputId": "708e80c5-41e9-47c4-cedc-a22bf130b4d9"
   },
   "outputs": [
    {
     "data": {
      "image/png": "[encoded data removed]",
      "text/plain": [
       "<Figure size 864x360 with 1 Axes>"
      ]
     },
     "metadata": {
      "needs_background": "light"
     },
     "output_type": "display_data"
    }
   ],
   "source": [
    "plt.figure(figsize=(12,5))\n",
    "sns.barplot(df2['brand_name'],df2['weight'])\n",
    "plt.grid()\n",
    "plt.title(\"Weight of Brands with High Battery Capacity\")\n",
    "plt.xticks(rotation=90)\n",
    "plt.show()"
   ]
  },
  {
   "cell_type": "markdown",
   "metadata": {
    "id": "fZQNrtaj7-hs"
   },
   "source": [
    "It can be observed that there are 287 devices that a have battery capacity more than 4500mAh\n",
    "\n",
    "Among the brands with a large battery capacity, it can be seen that Apple phones are the heaviest with more than 300 grams."
   ]
  },
  {
   "cell_type": "code",
   "execution_count": 29,
   "metadata": {
    "colab": {
     "base_uri": "https://localhost:8080/"
    },
    "id": "Gwwzwq9E7-hs",
    "outputId": "1c9c3bdd-cf59-45ea-ee66-f65b8f4e10c8"
   },
   "outputs": [
    {
     "data": {
      "text/plain": [
       "array(['Honor', 'Others', 'HTC', 'Huawei', 'Lava', 'Lenovo', 'LG',\n",
       "       'Micromax', 'Nokia', 'Oppo', 'Samsung', 'Vivo', 'Xiaomi', 'ZTE',\n",
       "       'Apple', 'Asus', 'Acer', 'Alcatel', 'BlackBerry', 'Celkon',\n",
       "       'Coolpad', 'Gionee', 'Google', 'Karbonn', 'Meizu', 'Microsoft',\n",
       "       'Motorola', 'OnePlus', 'Panasonic', 'Realme', 'Sony', 'Spice',\n",
       "       'XOLO'], dtype=object)"
      ]
     },
     "execution_count": 29,
     "metadata": {},
     "output_type": "execute_result"
    }
   ],
   "source": [
    "#Bigger screens are desirable for entertainment purposes as they offer a better viewing experience.\n",
    "#How many phones and tablets are available across different brands with a screen size larger than 6 inches?\n",
    "###Filter data to obtain brands with a screen size larger than 6 inches\n",
    "screensize2 = df2[df2['screen_size'] > 6]\n",
    "screensize2.shape[0]\n",
    "\n",
    "screensize2['brand_name'].unique()"
   ]
  },
  {
   "cell_type": "markdown",
   "metadata": {
    "id": "Bi2tW5aD7-hs"
   },
   "source": [
    "The above results show all brands with a screen size larger than 6 inches\n",
    "\n",
    "Such brands include: 'Honor', 'Others', 'HTC', 'Huawei', 'Lava', 'Lenovo', 'LG',\n",
    "       'Micromax', 'Nokia', 'Oppo', 'Samsung', 'Vivo', 'Xiaomi', 'ZTE',\n",
    "       'Apple', 'Asus', 'Acer', 'Alcatel', 'BlackBerry', 'Celkon',\n",
    "       'Coolpad', 'Gionee', 'Google', 'Karbonn', 'Meizu', 'Microsoft',\n",
    "       'Motorola', 'OnePlus', 'Panasonic', 'Realme', 'Sony', 'Spice', and \n",
    "       'XOLO'."
   ]
  },
  {
   "cell_type": "code",
   "execution_count": 30,
   "metadata": {
    "colab": {
     "base_uri": "https://localhost:8080/",
     "height": 351
    },
    "id": "GKquQvYT7-ht",
    "outputId": "88a6f6b6-9b3a-42bc-a976-47735c95c5b1"
   },
   "outputs": [
    {
     "data": {
      "image/png": "[encoded data removed]",
      "text/plain": [
       "<Figure size 720x360 with 1 Axes>"
      ]
     },
     "metadata": {
      "needs_background": "light"
     },
     "output_type": "display_data"
    }
   ],
   "source": [
    "#Budget devices nowadays offer great selfie cameras, allowing us to capture our favorite moments with loved ones.\n",
    "#What is the distribution of budget devices offering greater than 8MP selfie cameras across brands?\n",
    "\n",
    "###Filter data to obtain devices offering greater than 8MP selfie cameras across brands\n",
    "selfiecamera2 = df2[df2['selfie_camera_mp'] > 8]\n",
    "#check price distribution\n",
    "plt.figure(figsize=(10,5))\n",
    "sns.distplot(selfiecamera2['new_price'],color=\"blue\")\n",
    "plt.grid()\n",
    "plt.title(\"Budget Distribution for devices with more than 8MP Selfie Camera\")\n",
    "plt.show()"
   ]
  },
  {
   "cell_type": "markdown",
   "metadata": {
    "id": "tvwSwv2E7-ht"
   },
   "source": [
    "It can be observed that the budget for devices with more than 8MP camera is between 100-1000 euros.\n",
    "\n",
    "However, there are those devices that are sold more than 2500 euros"
   ]
  },
  {
   "cell_type": "code",
   "execution_count": 32,
   "metadata": {
    "colab": {
     "base_uri": "https://localhost:8080/",
     "height": 390
    },
    "id": "KRenPX3V7-ht",
    "outputId": "dae9dfbe-ab5b-4fd8-c996-2d37fe8af104"
   },
   "outputs": [
    {
     "data": {
      "text/html": [
       "<style  type=\"text/css\" >\n",
       "#T_a744125a_59ce_11ec_88ac_0242ac1c0002row0_col0,#T_a744125a_59ce_11ec_88ac_0242ac1c0002row1_col1,#T_a744125a_59ce_11ec_88ac_0242ac1c0002row2_col2,#T_a744125a_59ce_11ec_88ac_0242ac1c0002row3_col3,#T_a744125a_59ce_11ec_88ac_0242ac1c0002row4_col4,#T_a744125a_59ce_11ec_88ac_0242ac1c0002row5_col5,#T_a744125a_59ce_11ec_88ac_0242ac1c0002row6_col6,#T_a744125a_59ce_11ec_88ac_0242ac1c0002row7_col7,#T_a744125a_59ce_11ec_88ac_0242ac1c0002row8_col8,#T_a744125a_59ce_11ec_88ac_0242ac1c0002row9_col9,#T_a744125a_59ce_11ec_88ac_0242ac1c0002row10_col10{\n",
       "            background-color:  #b40426;\n",
       "            color:  #f1f1f1;\n",
       "        }#T_a744125a_59ce_11ec_88ac_0242ac1c0002row0_col1,#T_a744125a_59ce_11ec_88ac_0242ac1c0002row6_col4{\n",
       "            background-color:  #8fb1fe;\n",
       "            color:  #000000;\n",
       "        }#T_a744125a_59ce_11ec_88ac_0242ac1c0002row0_col2,#T_a744125a_59ce_11ec_88ac_0242ac1c0002row2_col9{\n",
       "            background-color:  #dedcdb;\n",
       "            color:  #000000;\n",
       "        }#T_a744125a_59ce_11ec_88ac_0242ac1c0002row0_col3,#T_a744125a_59ce_11ec_88ac_0242ac1c0002row3_col4{\n",
       "            background-color:  #81a4fb;\n",
       "            color:  #000000;\n",
       "        }#T_a744125a_59ce_11ec_88ac_0242ac1c0002row0_col4{\n",
       "            background-color:  #c0d4f5;\n",
       "            color:  #000000;\n",
       "        }#T_a744125a_59ce_11ec_88ac_0242ac1c0002row0_col5,#T_a744125a_59ce_11ec_88ac_0242ac1c0002row9_col10{\n",
       "            background-color:  #e26952;\n",
       "            color:  #000000;\n",
       "        }#T_a744125a_59ce_11ec_88ac_0242ac1c0002row0_col6{\n",
       "            background-color:  #e36c55;\n",
       "            color:  #000000;\n",
       "        }#T_a744125a_59ce_11ec_88ac_0242ac1c0002row0_col7,#T_a744125a_59ce_11ec_88ac_0242ac1c0002row7_col10{\n",
       "            background-color:  #f4c6af;\n",
       "            color:  #000000;\n",
       "        }#T_a744125a_59ce_11ec_88ac_0242ac1c0002row0_col8{\n",
       "            background-color:  #90b2fe;\n",
       "            color:  #000000;\n",
       "        }#T_a744125a_59ce_11ec_88ac_0242ac1c0002row0_col9,#T_a744125a_59ce_11ec_88ac_0242ac1c0002row3_col9,#T_a744125a_59ce_11ec_88ac_0242ac1c0002row10_col3{\n",
       "            background-color:  #d3dbe7;\n",
       "            color:  #000000;\n",
       "        }#T_a744125a_59ce_11ec_88ac_0242ac1c0002row0_col10{\n",
       "            background-color:  #f6bda2;\n",
       "            color:  #000000;\n",
       "        }#T_a744125a_59ce_11ec_88ac_0242ac1c0002row1_col0{\n",
       "            background-color:  #a7c5fe;\n",
       "            color:  #000000;\n",
       "        }#T_a744125a_59ce_11ec_88ac_0242ac1c0002row1_col2{\n",
       "            background-color:  #f4c5ad;\n",
       "            color:  #000000;\n",
       "        }#T_a744125a_59ce_11ec_88ac_0242ac1c0002row1_col3{\n",
       "            background-color:  #779af7;\n",
       "            color:  #000000;\n",
       "        }#T_a744125a_59ce_11ec_88ac_0242ac1c0002row1_col4,#T_a744125a_59ce_11ec_88ac_0242ac1c0002row2_col3{\n",
       "            background-color:  #bed2f6;\n",
       "            color:  #000000;\n",
       "        }#T_a744125a_59ce_11ec_88ac_0242ac1c0002row1_col5{\n",
       "            background-color:  #cad8ef;\n",
       "            color:  #000000;\n",
       "        }#T_a744125a_59ce_11ec_88ac_0242ac1c0002row1_col6,#T_a744125a_59ce_11ec_88ac_0242ac1c0002row7_col8,#T_a744125a_59ce_11ec_88ac_0242ac1c0002row8_col0,#T_a744125a_59ce_11ec_88ac_0242ac1c0002row8_col1,#T_a744125a_59ce_11ec_88ac_0242ac1c0002row8_col2,#T_a744125a_59ce_11ec_88ac_0242ac1c0002row8_col3,#T_a744125a_59ce_11ec_88ac_0242ac1c0002row8_col4,#T_a744125a_59ce_11ec_88ac_0242ac1c0002row8_col5,#T_a744125a_59ce_11ec_88ac_0242ac1c0002row8_col7,#T_a744125a_59ce_11ec_88ac_0242ac1c0002row8_col9,#T_a744125a_59ce_11ec_88ac_0242ac1c0002row8_col10{\n",
       "            background-color:  #3b4cc0;\n",
       "            color:  #f1f1f1;\n",
       "        }#T_a744125a_59ce_11ec_88ac_0242ac1c0002row1_col7,#T_a744125a_59ce_11ec_88ac_0242ac1c0002row10_col0{\n",
       "            background-color:  #f5c4ac;\n",
       "            color:  #000000;\n",
       "        }#T_a744125a_59ce_11ec_88ac_0242ac1c0002row1_col8{\n",
       "            background-color:  #a9c6fd;\n",
       "            color:  #000000;\n",
       "        }#T_a744125a_59ce_11ec_88ac_0242ac1c0002row1_col9{\n",
       "            background-color:  #d6dce4;\n",
       "            color:  #000000;\n",
       "        }#T_a744125a_59ce_11ec_88ac_0242ac1c0002row1_col10{\n",
       "            background-color:  #f2cbb7;\n",
       "            color:  #000000;\n",
       "        }#T_a744125a_59ce_11ec_88ac_0242ac1c0002row2_col0{\n",
       "            background-color:  #c3d5f4;\n",
       "            color:  #000000;\n",
       "        }#T_a744125a_59ce_11ec_88ac_0242ac1c0002row2_col1,#T_a744125a_59ce_11ec_88ac_0242ac1c0002row2_col5{\n",
       "            background-color:  #dddcdc;\n",
       "            color:  #000000;\n",
       "        }#T_a744125a_59ce_11ec_88ac_0242ac1c0002row2_col4{\n",
       "            background-color:  #e2dad5;\n",
       "            color:  #000000;\n",
       "        }#T_a744125a_59ce_11ec_88ac_0242ac1c0002row2_col6{\n",
       "            background-color:  #4f69d9;\n",
       "            color:  #000000;\n",
       "        }#T_a744125a_59ce_11ec_88ac_0242ac1c0002row2_col7{\n",
       "            background-color:  #eb7d62;\n",
       "            color:  #000000;\n",
       "        }#T_a744125a_59ce_11ec_88ac_0242ac1c0002row2_col8{\n",
       "            background-color:  #5d7ce6;\n",
       "            color:  #000000;\n",
       "        }#T_a744125a_59ce_11ec_88ac_0242ac1c0002row2_col10,#T_a744125a_59ce_11ec_88ac_0242ac1c0002row10_col7{\n",
       "            background-color:  #f7ad90;\n",
       "            color:  #000000;\n",
       "        }#T_a744125a_59ce_11ec_88ac_0242ac1c0002row3_col0,#T_a744125a_59ce_11ec_88ac_0242ac1c0002row5_col3{\n",
       "            background-color:  #8db0fe;\n",
       "            color:  #000000;\n",
       "        }#T_a744125a_59ce_11ec_88ac_0242ac1c0002row3_col1{\n",
       "            background-color:  #688aef;\n",
       "            color:  #000000;\n",
       "        }#T_a744125a_59ce_11ec_88ac_0242ac1c0002row3_col2{\n",
       "            background-color:  #e0dbd8;\n",
       "            color:  #000000;\n",
       "        }#T_a744125a_59ce_11ec_88ac_0242ac1c0002row3_col5{\n",
       "            background-color:  #a5c3fe;\n",
       "            color:  #000000;\n",
       "        }#T_a744125a_59ce_11ec_88ac_0242ac1c0002row3_col6{\n",
       "            background-color:  #5673e0;\n",
       "            color:  #000000;\n",
       "        }#T_a744125a_59ce_11ec_88ac_0242ac1c0002row3_col7{\n",
       "            background-color:  #e6d7cf;\n",
       "            color:  #000000;\n",
       "        }#T_a744125a_59ce_11ec_88ac_0242ac1c0002row3_col8{\n",
       "            background-color:  #9bbcff;\n",
       "            color:  #000000;\n",
       "        }#T_a744125a_59ce_11ec_88ac_0242ac1c0002row3_col10{\n",
       "            background-color:  #e1dad6;\n",
       "            color:  #000000;\n",
       "        }#T_a744125a_59ce_11ec_88ac_0242ac1c0002row4_col0,#T_a744125a_59ce_11ec_88ac_0242ac1c0002row10_col6{\n",
       "            background-color:  #c6d6f1;\n",
       "            color:  #000000;\n",
       "        }#T_a744125a_59ce_11ec_88ac_0242ac1c0002row4_col1{\n",
       "            background-color:  #b1cbfc;\n",
       "            color:  #000000;\n",
       "        }#T_a744125a_59ce_11ec_88ac_0242ac1c0002row4_col2,#T_a744125a_59ce_11ec_88ac_0242ac1c0002row4_col10{\n",
       "            background-color:  #f3c7b1;\n",
       "            color:  #000000;\n",
       "        }#T_a744125a_59ce_11ec_88ac_0242ac1c0002row4_col3,#T_a744125a_59ce_11ec_88ac_0242ac1c0002row10_col8{\n",
       "            background-color:  #7ea1fa;\n",
       "            color:  #000000;\n",
       "        }#T_a744125a_59ce_11ec_88ac_0242ac1c0002row4_col5,#T_a744125a_59ce_11ec_88ac_0242ac1c0002row7_col1{\n",
       "            background-color:  #cdd9ec;\n",
       "            color:  #000000;\n",
       "        }#T_a744125a_59ce_11ec_88ac_0242ac1c0002row4_col6{\n",
       "            background-color:  #6e90f2;\n",
       "            color:  #000000;\n",
       "        }#T_a744125a_59ce_11ec_88ac_0242ac1c0002row4_col7{\n",
       "            background-color:  #edd1c2;\n",
       "            color:  #000000;\n",
       "        }#T_a744125a_59ce_11ec_88ac_0242ac1c0002row4_col8,#T_a744125a_59ce_11ec_88ac_0242ac1c0002row9_col8{\n",
       "            background-color:  #98b9ff;\n",
       "            color:  #000000;\n",
       "        }#T_a744125a_59ce_11ec_88ac_0242ac1c0002row4_col9{\n",
       "            background-color:  #ead4c8;\n",
       "            color:  #000000;\n",
       "        }#T_a744125a_59ce_11ec_88ac_0242ac1c0002row5_col0{\n",
       "            background-color:  #e36b54;\n",
       "            color:  #000000;\n",
       "        }#T_a744125a_59ce_11ec_88ac_0242ac1c0002row5_col1{\n",
       "            background-color:  #adc9fd;\n",
       "            color:  #000000;\n",
       "        }#T_a744125a_59ce_11ec_88ac_0242ac1c0002row5_col2{\n",
       "            background-color:  #ecd3c5;\n",
       "            color:  #000000;\n",
       "        }#T_a744125a_59ce_11ec_88ac_0242ac1c0002row5_col4{\n",
       "            background-color:  #bfd3f6;\n",
       "            color:  #000000;\n",
       "        }#T_a744125a_59ce_11ec_88ac_0242ac1c0002row5_col6{\n",
       "            background-color:  #f59d7e;\n",
       "            color:  #000000;\n",
       "        }#T_a744125a_59ce_11ec_88ac_0242ac1c0002row5_col7{\n",
       "            background-color:  #f7b396;\n",
       "            color:  #000000;\n",
       "        }#T_a744125a_59ce_11ec_88ac_0242ac1c0002row5_col8{\n",
       "            background-color:  #84a7fc;\n",
       "            color:  #000000;\n",
       "        }#T_a744125a_59ce_11ec_88ac_0242ac1c0002row5_col9,#T_a744125a_59ce_11ec_88ac_0242ac1c0002row7_col0{\n",
       "            background-color:  #dadce0;\n",
       "            color:  #000000;\n",
       "        }#T_a744125a_59ce_11ec_88ac_0242ac1c0002row5_col10{\n",
       "            background-color:  #f7b89c;\n",
       "            color:  #000000;\n",
       "        }#T_a744125a_59ce_11ec_88ac_0242ac1c0002row6_col0{\n",
       "            background-color:  #df634e;\n",
       "            color:  #000000;\n",
       "        }#T_a744125a_59ce_11ec_88ac_0242ac1c0002row6_col1{\n",
       "            background-color:  #4961d2;\n",
       "            color:  #f1f1f1;\n",
       "        }#T_a744125a_59ce_11ec_88ac_0242ac1c0002row6_col2{\n",
       "            background-color:  #aac7fd;\n",
       "            color:  #000000;\n",
       "        }#T_a744125a_59ce_11ec_88ac_0242ac1c0002row6_col3{\n",
       "            background-color:  #7699f6;\n",
       "            color:  #000000;\n",
       "        }#T_a744125a_59ce_11ec_88ac_0242ac1c0002row6_col5{\n",
       "            background-color:  #f08a6c;\n",
       "            color:  #000000;\n",
       "        }#T_a744125a_59ce_11ec_88ac_0242ac1c0002row6_col7,#T_a744125a_59ce_11ec_88ac_0242ac1c0002row9_col3{\n",
       "            background-color:  #d2dbe8;\n",
       "            color:  #000000;\n",
       "        }#T_a744125a_59ce_11ec_88ac_0242ac1c0002row6_col8{\n",
       "            background-color:  #b9d0f9;\n",
       "            color:  #000000;\n",
       "        }#T_a744125a_59ce_11ec_88ac_0242ac1c0002row6_col9{\n",
       "            background-color:  #b6cefa;\n",
       "            color:  #000000;\n",
       "        }#T_a744125a_59ce_11ec_88ac_0242ac1c0002row6_col10{\n",
       "            background-color:  #e5d8d1;\n",
       "            color:  #000000;\n",
       "        }#T_a744125a_59ce_11ec_88ac_0242ac1c0002row7_col2{\n",
       "            background-color:  #ef886b;\n",
       "            color:  #000000;\n",
       "        }#T_a744125a_59ce_11ec_88ac_0242ac1c0002row7_col3{\n",
       "            background-color:  #aec9fc;\n",
       "            color:  #000000;\n",
       "        }#T_a744125a_59ce_11ec_88ac_0242ac1c0002row7_col4{\n",
       "            background-color:  #c1d4f4;\n",
       "            color:  #000000;\n",
       "        }#T_a744125a_59ce_11ec_88ac_0242ac1c0002row7_col5,#T_a744125a_59ce_11ec_88ac_0242ac1c0002row9_col7{\n",
       "            background-color:  #f0cdbb;\n",
       "            color:  #000000;\n",
       "        }#T_a744125a_59ce_11ec_88ac_0242ac1c0002row7_col6{\n",
       "            background-color:  #6a8bef;\n",
       "            color:  #000000;\n",
       "        }#T_a744125a_59ce_11ec_88ac_0242ac1c0002row7_col9{\n",
       "            background-color:  #c9d7f0;\n",
       "            color:  #000000;\n",
       "        }#T_a744125a_59ce_11ec_88ac_0242ac1c0002row8_col6{\n",
       "            background-color:  #4055c8;\n",
       "            color:  #f1f1f1;\n",
       "        }#T_a744125a_59ce_11ec_88ac_0242ac1c0002row9_col0{\n",
       "            background-color:  #d7dce3;\n",
       "            color:  #000000;\n",
       "        }#T_a744125a_59ce_11ec_88ac_0242ac1c0002row9_col1{\n",
       "            background-color:  #ccd9ed;\n",
       "            color:  #000000;\n",
       "        }#T_a744125a_59ce_11ec_88ac_0242ac1c0002row9_col2{\n",
       "            background-color:  #f2cab5;\n",
       "            color:  #000000;\n",
       "        }#T_a744125a_59ce_11ec_88ac_0242ac1c0002row9_col4{\n",
       "            background-color:  #ead5c9;\n",
       "            color:  #000000;\n",
       "        }#T_a744125a_59ce_11ec_88ac_0242ac1c0002row9_col5,#T_a744125a_59ce_11ec_88ac_0242ac1c0002row10_col1{\n",
       "            background-color:  #e4d9d2;\n",
       "            color:  #000000;\n",
       "        }#T_a744125a_59ce_11ec_88ac_0242ac1c0002row9_col6{\n",
       "            background-color:  #9abbff;\n",
       "            color:  #000000;\n",
       "        }#T_a744125a_59ce_11ec_88ac_0242ac1c0002row10_col2{\n",
       "            background-color:  #f5a081;\n",
       "            color:  #000000;\n",
       "        }#T_a744125a_59ce_11ec_88ac_0242ac1c0002row10_col4{\n",
       "            background-color:  #eed0c0;\n",
       "            color:  #000000;\n",
       "        }#T_a744125a_59ce_11ec_88ac_0242ac1c0002row10_col5{\n",
       "            background-color:  #f7b99e;\n",
       "            color:  #000000;\n",
       "        }#T_a744125a_59ce_11ec_88ac_0242ac1c0002row10_col9{\n",
       "            background-color:  #e57058;\n",
       "            color:  #000000;\n",
       "        }</style><table id=\"T_a744125a_59ce_11ec_88ac_0242ac1c0002\" class=\"dataframe\"><thead>    <tr>        <th class=\"blank level0\" ></th>        <th class=\"col_heading level0 col0\" >screen_size</th>        <th class=\"col_heading level0 col1\" >main_camera_mp</th>        <th class=\"col_heading level0 col2\" >selfie_camera_mp</th>        <th class=\"col_heading level0 col3\" >int_memory</th>        <th class=\"col_heading level0 col4\" >ram</th>        <th class=\"col_heading level0 col5\" >battery</th>        <th class=\"col_heading level0 col6\" >weight</th>        <th class=\"col_heading level0 col7\" >release_year</th>        <th class=\"col_heading level0 col8\" >days_used</th>        <th class=\"col_heading level0 col9\" >new_price</th>        <th class=\"col_heading level0 col10\" >used_price</th>    </tr></thead><tbody>\n",
       "                <tr>\n",
       "                        <th id=\"T_a744125a_59ce_11ec_88ac_0242ac1c0002level0_row0\" class=\"row_heading level0 row0\" >screen_size</th>\n",
       "                        <td id=\"T_a744125a_59ce_11ec_88ac_0242ac1c0002row0_col0\" class=\"data row0 col0\" >1.000000</td>\n",
       "                        <td id=\"T_a744125a_59ce_11ec_88ac_0242ac1c0002row0_col1\" class=\"data row0 col1\" >0.143849</td>\n",
       "                        <td id=\"T_a744125a_59ce_11ec_88ac_0242ac1c0002row0_col2\" class=\"data row0 col2\" >0.249254</td>\n",
       "                        <td id=\"T_a744125a_59ce_11ec_88ac_0242ac1c0002row0_col3\" class=\"data row0 col3\" >0.050890</td>\n",
       "                        <td id=\"T_a744125a_59ce_11ec_88ac_0242ac1c0002row0_col4\" class=\"data row0 col4\" >0.262861</td>\n",
       "                        <td id=\"T_a744125a_59ce_11ec_88ac_0242ac1c0002row0_col5\" class=\"data row0 col5\" >0.813459</td>\n",
       "                        <td id=\"T_a744125a_59ce_11ec_88ac_0242ac1c0002row0_col6\" class=\"data row0 col6\" >0.835189</td>\n",
       "                        <td id=\"T_a744125a_59ce_11ec_88ac_0242ac1c0002row0_col7\" class=\"data row0 col7\" >0.350407</td>\n",
       "                        <td id=\"T_a744125a_59ce_11ec_88ac_0242ac1c0002row0_col8\" class=\"data row0 col8\" >-0.269821</td>\n",
       "                        <td id=\"T_a744125a_59ce_11ec_88ac_0242ac1c0002row0_col9\" class=\"data row0 col9\" >0.339558</td>\n",
       "                        <td id=\"T_a744125a_59ce_11ec_88ac_0242ac1c0002row0_col10\" class=\"data row0 col10\" >0.527657</td>\n",
       "            </tr>\n",
       "            <tr>\n",
       "                        <th id=\"T_a744125a_59ce_11ec_88ac_0242ac1c0002level0_row1\" class=\"row_heading level0 row1\" >main_camera_mp</th>\n",
       "                        <td id=\"T_a744125a_59ce_11ec_88ac_0242ac1c0002row1_col0\" class=\"data row1 col0\" >0.143849</td>\n",
       "                        <td id=\"T_a744125a_59ce_11ec_88ac_0242ac1c0002row1_col1\" class=\"data row1 col1\" >1.000000</td>\n",
       "                        <td id=\"T_a744125a_59ce_11ec_88ac_0242ac1c0002row1_col2\" class=\"data row1 col2\" >0.428405</td>\n",
       "                        <td id=\"T_a744125a_59ce_11ec_88ac_0242ac1c0002row1_col3\" class=\"data row1 col3\" >0.017606</td>\n",
       "                        <td id=\"T_a744125a_59ce_11ec_88ac_0242ac1c0002row1_col4\" class=\"data row1 col4\" >0.256470</td>\n",
       "                        <td id=\"T_a744125a_59ce_11ec_88ac_0242ac1c0002row1_col5\" class=\"data row1 col5\" >0.244746</td>\n",
       "                        <td id=\"T_a744125a_59ce_11ec_88ac_0242ac1c0002row1_col6\" class=\"data row1 col6\" >-0.090950</td>\n",
       "                        <td id=\"T_a744125a_59ce_11ec_88ac_0242ac1c0002row1_col7\" class=\"data row1 col7\" >0.360219</td>\n",
       "                        <td id=\"T_a744125a_59ce_11ec_88ac_0242ac1c0002row1_col8\" class=\"data row1 col8\" >-0.148828</td>\n",
       "                        <td id=\"T_a744125a_59ce_11ec_88ac_0242ac1c0002row1_col9\" class=\"data row1 col9\" >0.355641</td>\n",
       "                        <td id=\"T_a744125a_59ce_11ec_88ac_0242ac1c0002row1_col10\" class=\"data row1 col10\" >0.457155</td>\n",
       "            </tr>\n",
       "            <tr>\n",
       "                        <th id=\"T_a744125a_59ce_11ec_88ac_0242ac1c0002level0_row2\" class=\"row_heading level0 row2\" >selfie_camera_mp</th>\n",
       "                        <td id=\"T_a744125a_59ce_11ec_88ac_0242ac1c0002row2_col0\" class=\"data row2 col0\" >0.249254</td>\n",
       "                        <td id=\"T_a744125a_59ce_11ec_88ac_0242ac1c0002row2_col1\" class=\"data row2 col1\" >0.428405</td>\n",
       "                        <td id=\"T_a744125a_59ce_11ec_88ac_0242ac1c0002row2_col2\" class=\"data row2 col2\" >1.000000</td>\n",
       "                        <td id=\"T_a744125a_59ce_11ec_88ac_0242ac1c0002row2_col3\" class=\"data row2 col3\" >0.261604</td>\n",
       "                        <td id=\"T_a744125a_59ce_11ec_88ac_0242ac1c0002row2_col4\" class=\"data row2 col4\" >0.415746</td>\n",
       "                        <td id=\"T_a744125a_59ce_11ec_88ac_0242ac1c0002row2_col5\" class=\"data row2 col5\" >0.340037</td>\n",
       "                        <td id=\"T_a744125a_59ce_11ec_88ac_0242ac1c0002row2_col6\" class=\"data row2 col6\" >-0.014816</td>\n",
       "                        <td id=\"T_a744125a_59ce_11ec_88ac_0242ac1c0002row2_col7\" class=\"data row2 col7\" >0.681868</td>\n",
       "                        <td id=\"T_a744125a_59ce_11ec_88ac_0242ac1c0002row2_col8\" class=\"data row2 col8\" >-0.520170</td>\n",
       "                        <td id=\"T_a744125a_59ce_11ec_88ac_0242ac1c0002row2_col9\" class=\"data row2 col9\" >0.395492</td>\n",
       "                        <td id=\"T_a744125a_59ce_11ec_88ac_0242ac1c0002row2_col10\" class=\"data row2 col10\" >0.591938</td>\n",
       "            </tr>\n",
       "            <tr>\n",
       "                        <th id=\"T_a744125a_59ce_11ec_88ac_0242ac1c0002level0_row3\" class=\"row_heading level0 row3\" >int_memory</th>\n",
       "                        <td id=\"T_a744125a_59ce_11ec_88ac_0242ac1c0002row3_col0\" class=\"data row3 col0\" >0.050890</td>\n",
       "                        <td id=\"T_a744125a_59ce_11ec_88ac_0242ac1c0002row3_col1\" class=\"data row3 col1\" >0.017606</td>\n",
       "                        <td id=\"T_a744125a_59ce_11ec_88ac_0242ac1c0002row3_col2\" class=\"data row3 col2\" >0.261604</td>\n",
       "                        <td id=\"T_a744125a_59ce_11ec_88ac_0242ac1c0002row3_col3\" class=\"data row3 col3\" >1.000000</td>\n",
       "                        <td id=\"T_a744125a_59ce_11ec_88ac_0242ac1c0002row3_col4\" class=\"data row3 col4\" >0.040351</td>\n",
       "                        <td id=\"T_a744125a_59ce_11ec_88ac_0242ac1c0002row3_col5\" class=\"data row3 col5\" >0.093695</td>\n",
       "                        <td id=\"T_a744125a_59ce_11ec_88ac_0242ac1c0002row3_col6\" class=\"data row3 col6\" >0.009521</td>\n",
       "                        <td id=\"T_a744125a_59ce_11ec_88ac_0242ac1c0002row3_col7\" class=\"data row3 col7\" >0.205787</td>\n",
       "                        <td id=\"T_a744125a_59ce_11ec_88ac_0242ac1c0002row3_col8\" class=\"data row3 col8\" >-0.213927</td>\n",
       "                        <td id=\"T_a744125a_59ce_11ec_88ac_0242ac1c0002row3_col9\" class=\"data row3 col9\" >0.342593</td>\n",
       "                        <td id=\"T_a744125a_59ce_11ec_88ac_0242ac1c0002row3_col10\" class=\"data row3 col10\" >0.346711</td>\n",
       "            </tr>\n",
       "            <tr>\n",
       "                        <th id=\"T_a744125a_59ce_11ec_88ac_0242ac1c0002level0_row4\" class=\"row_heading level0 row4\" >ram</th>\n",
       "                        <td id=\"T_a744125a_59ce_11ec_88ac_0242ac1c0002row4_col0\" class=\"data row4 col0\" >0.262861</td>\n",
       "                        <td id=\"T_a744125a_59ce_11ec_88ac_0242ac1c0002row4_col1\" class=\"data row4 col1\" >0.256470</td>\n",
       "                        <td id=\"T_a744125a_59ce_11ec_88ac_0242ac1c0002row4_col2\" class=\"data row4 col2\" >0.415746</td>\n",
       "                        <td id=\"T_a744125a_59ce_11ec_88ac_0242ac1c0002row4_col3\" class=\"data row4 col3\" >0.040351</td>\n",
       "                        <td id=\"T_a744125a_59ce_11ec_88ac_0242ac1c0002row4_col4\" class=\"data row4 col4\" >1.000000</td>\n",
       "                        <td id=\"T_a744125a_59ce_11ec_88ac_0242ac1c0002row4_col5\" class=\"data row4 col5\" >0.261317</td>\n",
       "                        <td id=\"T_a744125a_59ce_11ec_88ac_0242ac1c0002row4_col6\" class=\"data row4 col6\" >0.086392</td>\n",
       "                        <td id=\"T_a744125a_59ce_11ec_88ac_0242ac1c0002row4_col7\" class=\"data row4 col7\" >0.270889</td>\n",
       "                        <td id=\"T_a744125a_59ce_11ec_88ac_0242ac1c0002row4_col8\" class=\"data row4 col8\" >-0.225667</td>\n",
       "                        <td id=\"T_a744125a_59ce_11ec_88ac_0242ac1c0002row4_col9\" class=\"data row4 col9\" >0.453624</td>\n",
       "                        <td id=\"T_a744125a_59ce_11ec_88ac_0242ac1c0002row4_col10\" class=\"data row4 col10\" >0.480676</td>\n",
       "            </tr>\n",
       "            <tr>\n",
       "                        <th id=\"T_a744125a_59ce_11ec_88ac_0242ac1c0002level0_row5\" class=\"row_heading level0 row5\" >battery</th>\n",
       "                        <td id=\"T_a744125a_59ce_11ec_88ac_0242ac1c0002row5_col0\" class=\"data row5 col0\" >0.813459</td>\n",
       "                        <td id=\"T_a744125a_59ce_11ec_88ac_0242ac1c0002row5_col1\" class=\"data row5 col1\" >0.244746</td>\n",
       "                        <td id=\"T_a744125a_59ce_11ec_88ac_0242ac1c0002row5_col2\" class=\"data row5 col2\" >0.340037</td>\n",
       "                        <td id=\"T_a744125a_59ce_11ec_88ac_0242ac1c0002row5_col3\" class=\"data row5 col3\" >0.093695</td>\n",
       "                        <td id=\"T_a744125a_59ce_11ec_88ac_0242ac1c0002row5_col4\" class=\"data row5 col4\" >0.261317</td>\n",
       "                        <td id=\"T_a744125a_59ce_11ec_88ac_0242ac1c0002row5_col5\" class=\"data row5 col5\" >1.000000</td>\n",
       "                        <td id=\"T_a744125a_59ce_11ec_88ac_0242ac1c0002row5_col6\" class=\"data row5 col6\" >0.716757</td>\n",
       "                        <td id=\"T_a744125a_59ce_11ec_88ac_0242ac1c0002row5_col7\" class=\"data row5 col7\" >0.456181</td>\n",
       "                        <td id=\"T_a744125a_59ce_11ec_88ac_0242ac1c0002row5_col8\" class=\"data row5 col8\" >-0.325877</td>\n",
       "                        <td id=\"T_a744125a_59ce_11ec_88ac_0242ac1c0002row5_col9\" class=\"data row5 col9\" >0.373699</td>\n",
       "                        <td id=\"T_a744125a_59ce_11ec_88ac_0242ac1c0002row5_col10\" class=\"data row5 col10\" >0.549809</td>\n",
       "            </tr>\n",
       "            <tr>\n",
       "                        <th id=\"T_a744125a_59ce_11ec_88ac_0242ac1c0002level0_row6\" class=\"row_heading level0 row6\" >weight</th>\n",
       "                        <td id=\"T_a744125a_59ce_11ec_88ac_0242ac1c0002row6_col0\" class=\"data row6 col0\" >0.835189</td>\n",
       "                        <td id=\"T_a744125a_59ce_11ec_88ac_0242ac1c0002row6_col1\" class=\"data row6 col1\" >-0.090950</td>\n",
       "                        <td id=\"T_a744125a_59ce_11ec_88ac_0242ac1c0002row6_col2\" class=\"data row6 col2\" >-0.014816</td>\n",
       "                        <td id=\"T_a744125a_59ce_11ec_88ac_0242ac1c0002row6_col3\" class=\"data row6 col3\" >0.009521</td>\n",
       "                        <td id=\"T_a744125a_59ce_11ec_88ac_0242ac1c0002row6_col4\" class=\"data row6 col4\" >0.086392</td>\n",
       "                        <td id=\"T_a744125a_59ce_11ec_88ac_0242ac1c0002row6_col5\" class=\"data row6 col5\" >0.716757</td>\n",
       "                        <td id=\"T_a744125a_59ce_11ec_88ac_0242ac1c0002row6_col6\" class=\"data row6 col6\" >1.000000</td>\n",
       "                        <td id=\"T_a744125a_59ce_11ec_88ac_0242ac1c0002row6_col7\" class=\"data row6 col7\" >0.072055</td>\n",
       "                        <td id=\"T_a744125a_59ce_11ec_88ac_0242ac1c0002row6_col8\" class=\"data row6 col8\" >-0.066328</td>\n",
       "                        <td id=\"T_a744125a_59ce_11ec_88ac_0242ac1c0002row6_col9\" class=\"data row6 col9\" >0.223602</td>\n",
       "                        <td id=\"T_a744125a_59ce_11ec_88ac_0242ac1c0002row6_col10\" class=\"data row6 col10\" >0.368214</td>\n",
       "            </tr>\n",
       "            <tr>\n",
       "                        <th id=\"T_a744125a_59ce_11ec_88ac_0242ac1c0002level0_row7\" class=\"row_heading level0 row7\" >release_year</th>\n",
       "                        <td id=\"T_a744125a_59ce_11ec_88ac_0242ac1c0002row7_col0\" class=\"data row7 col0\" >0.350407</td>\n",
       "                        <td id=\"T_a744125a_59ce_11ec_88ac_0242ac1c0002row7_col1\" class=\"data row7 col1\" >0.360219</td>\n",
       "                        <td id=\"T_a744125a_59ce_11ec_88ac_0242ac1c0002row7_col2\" class=\"data row7 col2\" >0.681868</td>\n",
       "                        <td id=\"T_a744125a_59ce_11ec_88ac_0242ac1c0002row7_col3\" class=\"data row7 col3\" >0.205787</td>\n",
       "                        <td id=\"T_a744125a_59ce_11ec_88ac_0242ac1c0002row7_col4\" class=\"data row7 col4\" >0.270889</td>\n",
       "                        <td id=\"T_a744125a_59ce_11ec_88ac_0242ac1c0002row7_col5\" class=\"data row7 col5\" >0.456181</td>\n",
       "                        <td id=\"T_a744125a_59ce_11ec_88ac_0242ac1c0002row7_col6\" class=\"data row7 col6\" >0.072055</td>\n",
       "                        <td id=\"T_a744125a_59ce_11ec_88ac_0242ac1c0002row7_col7\" class=\"data row7 col7\" >1.000000</td>\n",
       "                        <td id=\"T_a744125a_59ce_11ec_88ac_0242ac1c0002row7_col8\" class=\"data row7 col8\" >-0.711607</td>\n",
       "                        <td id=\"T_a744125a_59ce_11ec_88ac_0242ac1c0002row7_col9\" class=\"data row7 col9\" >0.295952</td>\n",
       "                        <td id=\"T_a744125a_59ce_11ec_88ac_0242ac1c0002row7_col10\" class=\"data row7 col10\" >0.482852</td>\n",
       "            </tr>\n",
       "            <tr>\n",
       "                        <th id=\"T_a744125a_59ce_11ec_88ac_0242ac1c0002level0_row8\" class=\"row_heading level0 row8\" >days_used</th>\n",
       "                        <td id=\"T_a744125a_59ce_11ec_88ac_0242ac1c0002row8_col0\" class=\"data row8 col0\" >-0.269821</td>\n",
       "                        <td id=\"T_a744125a_59ce_11ec_88ac_0242ac1c0002row8_col1\" class=\"data row8 col1\" >-0.148828</td>\n",
       "                        <td id=\"T_a744125a_59ce_11ec_88ac_0242ac1c0002row8_col2\" class=\"data row8 col2\" >-0.520170</td>\n",
       "                        <td id=\"T_a744125a_59ce_11ec_88ac_0242ac1c0002row8_col3\" class=\"data row8 col3\" >-0.213927</td>\n",
       "                        <td id=\"T_a744125a_59ce_11ec_88ac_0242ac1c0002row8_col4\" class=\"data row8 col4\" >-0.225667</td>\n",
       "                        <td id=\"T_a744125a_59ce_11ec_88ac_0242ac1c0002row8_col5\" class=\"data row8 col5\" >-0.325877</td>\n",
       "                        <td id=\"T_a744125a_59ce_11ec_88ac_0242ac1c0002row8_col6\" class=\"data row8 col6\" >-0.066328</td>\n",
       "                        <td id=\"T_a744125a_59ce_11ec_88ac_0242ac1c0002row8_col7\" class=\"data row8 col7\" >-0.711607</td>\n",
       "                        <td id=\"T_a744125a_59ce_11ec_88ac_0242ac1c0002row8_col8\" class=\"data row8 col8\" >1.000000</td>\n",
       "                        <td id=\"T_a744125a_59ce_11ec_88ac_0242ac1c0002row8_col9\" class=\"data row8 col9\" >-0.227404</td>\n",
       "                        <td id=\"T_a744125a_59ce_11ec_88ac_0242ac1c0002row8_col10\" class=\"data row8 col10\" >-0.355394</td>\n",
       "            </tr>\n",
       "            <tr>\n",
       "                        <th id=\"T_a744125a_59ce_11ec_88ac_0242ac1c0002level0_row9\" class=\"row_heading level0 row9\" >new_price</th>\n",
       "                        <td id=\"T_a744125a_59ce_11ec_88ac_0242ac1c0002row9_col0\" class=\"data row9 col0\" >0.339558</td>\n",
       "                        <td id=\"T_a744125a_59ce_11ec_88ac_0242ac1c0002row9_col1\" class=\"data row9 col1\" >0.355641</td>\n",
       "                        <td id=\"T_a744125a_59ce_11ec_88ac_0242ac1c0002row9_col2\" class=\"data row9 col2\" >0.395492</td>\n",
       "                        <td id=\"T_a744125a_59ce_11ec_88ac_0242ac1c0002row9_col3\" class=\"data row9 col3\" >0.342593</td>\n",
       "                        <td id=\"T_a744125a_59ce_11ec_88ac_0242ac1c0002row9_col4\" class=\"data row9 col4\" >0.453624</td>\n",
       "                        <td id=\"T_a744125a_59ce_11ec_88ac_0242ac1c0002row9_col5\" class=\"data row9 col5\" >0.373699</td>\n",
       "                        <td id=\"T_a744125a_59ce_11ec_88ac_0242ac1c0002row9_col6\" class=\"data row9 col6\" >0.223602</td>\n",
       "                        <td id=\"T_a744125a_59ce_11ec_88ac_0242ac1c0002row9_col7\" class=\"data row9 col7\" >0.295952</td>\n",
       "                        <td id=\"T_a744125a_59ce_11ec_88ac_0242ac1c0002row9_col8\" class=\"data row9 col8\" >-0.227404</td>\n",
       "                        <td id=\"T_a744125a_59ce_11ec_88ac_0242ac1c0002row9_col9\" class=\"data row9 col9\" >1.000000</td>\n",
       "                        <td id=\"T_a744125a_59ce_11ec_88ac_0242ac1c0002row9_col10\" class=\"data row9 col10\" >0.807562</td>\n",
       "            </tr>\n",
       "            <tr>\n",
       "                        <th id=\"T_a744125a_59ce_11ec_88ac_0242ac1c0002level0_row10\" class=\"row_heading level0 row10\" >used_price</th>\n",
       "                        <td id=\"T_a744125a_59ce_11ec_88ac_0242ac1c0002row10_col0\" class=\"data row10 col0\" >0.527657</td>\n",
       "                        <td id=\"T_a744125a_59ce_11ec_88ac_0242ac1c0002row10_col1\" class=\"data row10 col1\" >0.457155</td>\n",
       "                        <td id=\"T_a744125a_59ce_11ec_88ac_0242ac1c0002row10_col2\" class=\"data row10 col2\" >0.591938</td>\n",
       "                        <td id=\"T_a744125a_59ce_11ec_88ac_0242ac1c0002row10_col3\" class=\"data row10 col3\" >0.346711</td>\n",
       "                        <td id=\"T_a744125a_59ce_11ec_88ac_0242ac1c0002row10_col4\" class=\"data row10 col4\" >0.480676</td>\n",
       "                        <td id=\"T_a744125a_59ce_11ec_88ac_0242ac1c0002row10_col5\" class=\"data row10 col5\" >0.549809</td>\n",
       "                        <td id=\"T_a744125a_59ce_11ec_88ac_0242ac1c0002row10_col6\" class=\"data row10 col6\" >0.368214</td>\n",
       "                        <td id=\"T_a744125a_59ce_11ec_88ac_0242ac1c0002row10_col7\" class=\"data row10 col7\" >0.482852</td>\n",
       "                        <td id=\"T_a744125a_59ce_11ec_88ac_0242ac1c0002row10_col8\" class=\"data row10 col8\" >-0.355394</td>\n",
       "                        <td id=\"T_a744125a_59ce_11ec_88ac_0242ac1c0002row10_col9\" class=\"data row10 col9\" >0.807562</td>\n",
       "                        <td id=\"T_a744125a_59ce_11ec_88ac_0242ac1c0002row10_col10\" class=\"data row10 col10\" >1.000000</td>\n",
       "            </tr>\n",
       "    </tbody></table>"
      ],
      "text/plain": [
       "<pandas.io.formats.style.Styler at 0x7f9be279b590>"
      ]
     },
     "execution_count": 32,
     "metadata": {},
     "output_type": "execute_result"
    }
   ],
   "source": [
    "#Which attributes are highly correlated with the price of a used device?\n",
    "#correlation between features\n",
    "corr2 = df2.corr()\n",
    "corr2.style.background_gradient(cmap='coolwarm')"
   ]
  },
  {
   "cell_type": "markdown",
   "metadata": {
    "id": "pUzGASBs7-ht"
   },
   "source": [
    "It can be observed that the price of used devices is highly correlated to: screen_size,selfie_camera_mp, battery, and new_price"
   ]
  },
  {
   "cell_type": "markdown",
   "metadata": {
    "id": "x9Ycp1rkDPzL"
   },
   "source": [
    "## Building a Linear Regression model"
   ]
  },
  {
   "cell_type": "code",
   "execution_count": 33,
   "metadata": {
    "colab": {
     "base_uri": "https://localhost:8080/"
    },
    "id": "wR-_qpTJ7-ht",
    "outputId": "e13bc896-b57c-45ae-8c65-fbb6e4bac7cd"
   },
   "outputs": [
    {
     "data": {
      "text/plain": [
       "Index(['screen_size', 'main_camera_mp', 'selfie_camera_mp', 'int_memory',\n",
       "       'ram', 'battery', 'weight', 'days_used', 'new_price', 'used_price'],\n",
       "      dtype='object')"
      ]
     },
     "execution_count": 33,
     "metadata": {},
     "output_type": "execute_result"
    }
   ],
   "source": [
    "dataset.columns.unique()"
   ]
  },
  {
   "cell_type": "code",
   "execution_count": 34,
   "metadata": {
    "id": "ZNRiMg0wMKth"
   },
   "outputs": [],
   "source": [
    "#Setting the values for independent (X) variable and dependent (Y) variable\n",
    "##Setting the value for X and Y\n",
    "x = dataset[['screen_size', 'main_camera_mp', 'selfie_camera_mp', 'int_memory',\n",
    "       'ram', 'battery', 'weight', 'days_used', 'new_price',]]\n",
    "y = dataset['used_price']"
   ]
  },
  {
   "cell_type": "code",
   "execution_count": 35,
   "metadata": {
    "id": "Ltpn6JNC7-ht"
   },
   "outputs": [],
   "source": [
    "#Splitting the dataset\n",
    "x_train, x_test, y_train, y_test = train_test_split(x, y, test_size = 0.3, random_state = 100)"
   ]
  },
  {
   "cell_type": "markdown",
   "metadata": {
    "id": "NVBLiBoy7-ht"
   },
   "source": [
    "The dataset has been split into 70-30 ration whereby  there is 70% training data and 30% tes data"
   ]
  },
  {
   "cell_type": "code",
   "execution_count": 36,
   "metadata": {
    "colab": {
     "base_uri": "https://localhost:8080/"
    },
    "id": "eHB-xvOH7-hu",
    "outputId": "948ae36b-1bd4-4892-91b2-f697aee47080"
   },
   "outputs": [
    {
     "data": {
      "text/plain": [
       "LinearRegression()"
      ]
     },
     "execution_count": 36,
     "metadata": {},
     "output_type": "execute_result"
    }
   ],
   "source": [
    "#Fitting the Multiple Linear Regression model\n",
    "mlr = LinearRegression()  \n",
    "mlr.fit(x_train, y_train)"
   ]
  },
  {
   "cell_type": "code",
   "execution_count": 37,
   "metadata": {
    "colab": {
     "base_uri": "https://localhost:8080/"
    },
    "id": "f2YQRcn27-hu",
    "outputId": "957a86e3-2611-4f9c-86c4-6318fc9c05c2"
   },
   "outputs": [
    {
     "name": "stdout",
     "output_type": "stream",
     "text": [
      "Intercept:  -10.973465657690227\n",
      "Coefficients:\n"
     ]
    },
    {
     "data": {
      "text/plain": [
       "[('screen_size', 0.9429081440905064),\n",
       " ('main_camera_mp', 1.5968577529845587),\n",
       " ('selfie_camera_mp', 2.0549152923413976),\n",
       " ('int_memory', 0.03870377192879201),\n",
       " ('ram', 1.652155822284747),\n",
       " ('battery', -0.0003222227267332123),\n",
       " ('weight', 0.12329222783029688),\n",
       " ('days_used', -0.006630871977548525),\n",
       " ('new_price', 0.14960859629225404)]"
      ]
     },
     "execution_count": 37,
     "metadata": {},
     "output_type": "execute_result"
    }
   ],
   "source": [
    "# model Intercept and Coefficient\n",
    "print(\"Intercept: \", mlr.intercept_)\n",
    "print(\"Coefficients:\")\n",
    "list(zip(x, mlr.coef_))"
   ]
  },
  {
   "cell_type": "code",
   "execution_count": 38,
   "metadata": {
    "colab": {
     "base_uri": "https://localhost:8080/"
    },
    "id": "LlrPtiOQ7-hu",
    "outputId": "a2e430c9-a937-4b59-88d8-65c35428afba"
   },
   "outputs": [
    {
     "name": "stdout",
     "output_type": "stream",
     "text": [
      "Prediction for test set: [ 83.99477267 114.36169339  49.38395518  97.30930199  58.95474273\n",
      " 159.43910359  54.53754447  57.29328957  42.7840872  156.16694573\n",
      "  32.35089398  71.82175961  82.39112583  10.8546928   41.37641569\n",
      "  43.48600618  31.50050717 103.2854742   72.31606582  95.10482688\n",
      "   5.07982039 107.87205317 117.48173823 119.93566294  95.25064094\n",
      "  94.80402182  64.3403415  126.90070982  91.91396259 116.64049468\n",
      "  47.31694259 143.37897885  34.1060274  163.30709291  43.24852961\n",
      "  59.15894394  80.78746367  63.83702898  76.70078047 172.04994195\n",
      "  74.10727217 107.7894225   96.43586526 122.84277396  58.22644196\n",
      "  68.70298926 121.79438454 132.17816324  97.62851898  34.53185512\n",
      "  50.97178547  69.50706832  47.48097679 142.06083944  85.05525401\n",
      "  55.54293077 226.69075297  89.73289906  60.83822723  30.01942034\n",
      " 156.5899558   75.91521619 114.03236126  74.68857957 105.74151391\n",
      "  70.11590918  99.51118338  55.03179927 122.73455754  98.52472986\n",
      "  54.57590816  83.37861463 154.21647783  44.99005597  74.56647394\n",
      "  83.81672548  67.73041706  84.66917719 140.49399512  46.17449455\n",
      " 116.75019201 150.85169288 181.71887031 123.41700495  66.22909228\n",
      " 103.33114845  67.86916441 166.82428789  46.60844557  74.4742779\n",
      "  63.51656941  49.58596162 101.77933298  68.54627754 119.98906677\n",
      "  53.51175535 104.37450987  41.44367964 117.29226669  68.92658139\n",
      " 127.34547758 121.77439598 106.83175523  76.61748048  94.48616099\n",
      " 156.23412506  59.42108766  38.39983113 187.43649628  77.25085408\n",
      " 127.54523276  90.20762446 119.24061291  49.19499999  71.99949776\n",
      " 373.23377805 124.02967813  51.94935963  50.64821953 146.83208151\n",
      "  79.18196181  65.61464752 179.42425835  67.54707158  62.33563959\n",
      " 157.56795417  75.34645967  73.92571274  39.46726969  90.25087385\n",
      "  99.13842276  50.16258132  49.22365649  76.22036     37.19513922\n",
      "  43.51151167  50.38380361  79.23546388 199.400944    24.36961078\n",
      " 157.73144148  61.03359125 128.52648021  62.57807453  59.77751507\n",
      " 112.89616895 104.13915155  48.75019315 112.0808115   41.83795766\n",
      " 115.84344838  85.09370412  41.41793405  32.75748722 129.20255665\n",
      "  38.25528899 204.73693274  54.29454647  48.00547537  41.67722377\n",
      "  85.59379298  58.40826028  17.93730336 115.86255892 108.37344073\n",
      "  30.03535224  70.39510334  43.03087804 238.05224433 144.00499836\n",
      "  80.07981882 134.15186471  68.90965405  85.62290079  54.13586185\n",
      "  54.4246099  197.68605834 162.47009221 121.94175302  97.41054979\n",
      "  91.12003174  85.27321866  74.79987857  97.48019442 117.71550752\n",
      " 140.18299674  62.60206427 148.23995743  83.99717294  52.52576202\n",
      "  83.18481491  80.07385109 126.1679394   44.10195305 131.09502936\n",
      "  56.65711742 125.0549265   60.33190786  29.98138557  47.59662147\n",
      "  54.50908179 103.3118993   91.47336248 105.59993402 151.54127742\n",
      "   9.23901954  80.66432732  63.75080505  58.54666037  46.244949\n",
      " 107.62323183 109.00279077  89.18745717  90.10888539 115.4391252\n",
      "  73.87748227 116.64497529 116.90261032  67.98021129 161.51289579\n",
      "  65.66122851 147.35714909  75.60230329  80.25604296  57.41621606\n",
      " 167.62605136  72.74814005  77.26064268 117.19086079 107.24309891\n",
      "  84.78199879 132.15511085  72.43047821  49.95423481 106.54654085\n",
      "  97.56506757  60.79411142  39.97923077  21.48732791  62.4031544\n",
      "  49.56209353  52.95509432  61.31873739  79.35289553  85.15996276\n",
      " 162.65611158  87.92481575 109.64449818  59.2218373   91.52258573\n",
      "  62.89500483  89.1602399   48.15460018  48.98044883  75.09750376\n",
      "  62.98254226  74.46826766  72.83072886  48.78107566  63.25457274\n",
      " 176.74342253 163.45949487 148.2022108   63.74941485  71.04154564\n",
      "  47.39499183 101.40639392 119.73440762  97.96138671  87.46746409\n",
      "  38.88489119  24.6559213   61.89869012 108.56350123  45.76139283\n",
      " 189.44300869 103.08353595  54.13658356  86.88203927  62.73365836\n",
      " 158.44954411 106.78553581  12.99550693  52.79897148 110.14555729\n",
      " 113.93319079 144.49604787  93.78594856 154.00773376  32.46264904\n",
      " 101.83114675  53.25925933   4.36292796  50.38738385  43.59494731\n",
      " 176.7533537  187.27960877  76.39032076 139.42441525 112.16082378\n",
      "  70.33102831  50.07797275 121.93371492  30.86989765  83.46397428\n",
      "  58.35599872 108.84491879  86.49523757 278.38264161 115.96858789\n",
      "  93.33824767  83.44981267 100.36105159  38.95264001  11.94775709\n",
      "  67.55500695  70.65160157  13.67951653 109.19762187  66.08045751\n",
      " 137.97838954  89.66040034 210.43210361  85.82072456 117.78149467\n",
      " 134.65488469 129.0967847  158.02584135  16.44329468  54.15863035\n",
      "  45.97850072  73.09352327  36.31205962 195.09512655  93.74554139\n",
      "  53.08518917  64.90523709  61.46394354 197.60918959  65.53528324\n",
      "  67.90805386 127.05306894  66.34242034  52.6458524  136.01429869\n",
      "  98.7071714   28.05484341  63.29960194 107.44568322  42.30201101\n",
      "  82.6933714   82.19184245 131.9374227  139.91211889 185.45311279\n",
      " 113.86625388 120.34424868  89.04020119  77.84543519 104.07972713\n",
      "  75.80562784  21.10292579  79.74722922  99.56406724  47.8443\n",
      " 159.66433048 102.83239401  35.6943642   84.77446454  68.06275035\n",
      "  74.62105035  36.93556617  38.32314418  60.3108085  100.09652748\n",
      "  23.53583445 191.72955725  76.53387002  80.41536517  45.06842726\n",
      "  84.87374672  84.62709426  22.64654141  59.96256381  42.68672748\n",
      "  76.89183887  72.16689936 110.07345684 151.09375658  62.94827958\n",
      "  94.14847595 193.278775    41.90994467 135.3436294  115.79081166\n",
      " 172.53586797  60.27879243  82.25757956  63.1688449   83.14769688\n",
      "  53.50316443 177.40926744 116.18787575 104.97263861  49.90761191\n",
      "  91.58841551  87.98864546  51.44722958  64.17290167  39.04656747\n",
      "  76.84045194 108.88174889 126.00743282  37.99155112  98.9984205\n",
      "  72.58845521 113.34018351  82.96201289 140.77756693  78.74435229\n",
      "  78.53323291 111.89089004 136.74651955  30.34493437  78.46722361\n",
      " 253.28127448 121.55309035 508.57586854  75.23107279 151.23303943\n",
      " 147.47808131  67.18444674  65.47163493 116.58709179 105.05170913\n",
      " 101.14323862 117.59773615  48.81589442  87.16709235  56.4538368\n",
      "  85.80628544  68.54611738  54.5377019  167.54300857  65.5276839\n",
      " 173.04265242  88.32274415  63.18651001  74.75069459  81.45649577\n",
      "  34.36862393 109.0356192   83.9420263   42.72611684  86.39312465\n",
      "  89.01557206  68.09091183  93.13920372  61.00641332  37.25942347\n",
      "  90.84972798 126.0163294  130.10723666  29.05546209 100.42580838\n",
      "  69.92384916 110.57958545   7.55831152  61.89208192 100.95708168\n",
      "  97.54487647  88.45302218  12.39221731 116.86525706  63.6278637\n",
      "  74.22320179  21.28221356  57.69502761 167.85928348  93.26673933\n",
      " 234.33308304  98.61333516  85.36043178  90.93847949 121.11868131\n",
      " 119.09339561 171.86237419 155.0697556   15.56289692 127.15876614\n",
      " 132.55848113 110.02086544  91.41582407  94.9903255  117.50362565\n",
      "  79.95234373  89.24536197  70.31296661  81.00993307  57.04759385\n",
      "  84.74334895  81.421006    98.00781161 113.41345136 290.38224325\n",
      "  85.75148998  11.07007691 144.93799312 103.49552956  64.21214987\n",
      " 103.01116502 183.38895665  82.27198184 150.52853686  81.22219306\n",
      " 101.12702232 129.17701496  19.53188018  86.92329783 102.1701724\n",
      " 116.89963711  22.5914085   84.9597137   61.89076167 151.3154998\n",
      "  69.80774831  72.48861213 104.88270555 151.22338169  74.05068196\n",
      " 200.99757238  77.36310922  40.07153244 101.57839447  83.34426238\n",
      "  64.85859486  72.2846847  101.54341508  99.07079443  40.07298675\n",
      "  41.56190435  81.38397536 215.57829387  59.07944454  58.01306012\n",
      " 143.35449095  51.25644434  71.23772591 130.37528353 112.1219035\n",
      "  66.77344849  42.53687534  46.46582466  99.04829629 171.59849947\n",
      "  86.69326983  69.24954526 108.66419099 100.63811325 102.40795881\n",
      " 111.9747987   93.52592645 180.32569184 149.01227613 141.14797175\n",
      "  30.91510676 124.26458442 225.26372778  41.82906201 169.21735503\n",
      "  52.61818089  44.59182624  27.18984003  89.65362137  79.39112489\n",
      " 177.6626984   91.77570177  93.59751608 172.23355131  51.59504039\n",
      "  70.67035617 131.45139088 114.00327669 106.75722702 177.92478306\n",
      "  79.33795602  99.39928168 102.49060358  72.39582449 110.84656241\n",
      " 107.71138663 119.62912106 131.72891927 119.7779605  136.90997757\n",
      " 130.46198624 141.78790906  91.14631717  60.49383806  66.71016396\n",
      "  36.36311298  55.24463112  84.44638751  80.99979291  43.19688602\n",
      "  28.52850747  52.76712474 108.30182219 183.29554715  57.41778709\n",
      "  32.25724584  89.72577736  88.44452485  29.2823221   85.33132568\n",
      "  81.91812919 159.41186273  41.62961242  62.87952767  94.4827047\n",
      " 142.24849762  43.45636664  57.33169076  52.46759335 120.6532956\n",
      "  40.33730571 157.68513373  59.4322563   45.72504701 141.12515249\n",
      "  99.13281196 144.7512703   75.50209392  50.45856031  59.83358297\n",
      "  47.67105175  67.63437114  32.01784543  51.93216435  57.65917785\n",
      "  46.53155667  92.11999536  91.94114171  77.08631251 244.66653622\n",
      "  46.59142064 109.91535209 103.35225089  50.23591036  72.7359563\n",
      "  72.89016246  88.30036327 123.57356824  61.512961    56.58239729\n",
      " 142.37227401  99.7696277   59.10360314  95.5802235  217.67148875\n",
      "  78.82502901  78.19238959 178.64962335  21.88782964  36.40306612\n",
      "  64.03335302 100.20085944  24.5518627   34.88044858  40.4631051\n",
      "  59.74248851  51.07692903 506.89769384 130.90719357 172.23111739\n",
      "  64.57106904  50.6861163  174.91292242 181.30043003  34.24424374\n",
      "  66.47841609  77.12516434 127.813474   105.96922179  49.76161296\n",
      "  88.80384034  95.24014239 111.37414669  96.20536439  81.90082396\n",
      "  76.70336959 105.66174147 117.97679034  55.40954654  69.49727093\n",
      "  94.20718701  31.50054901 106.50908228  75.27974287  14.68119905\n",
      " 146.61015768  56.32851312  51.79557327  62.2520976   43.8013458\n",
      " 161.05733812  72.59172156  51.82222864 116.93017688  61.93596427\n",
      " 143.94396931  99.04070692  41.24660331  39.85138694 133.55242529\n",
      " 117.50599289  87.59665399 207.40954166  89.20691433 119.3136508\n",
      "  72.23017682  27.22156896  50.92182134  54.25365859  64.05538476\n",
      "  59.43969374  40.14320091  89.64235783  50.04200422 128.30650558\n",
      "  88.90192859 151.21848956 119.58570461  60.41396183  90.44561829\n",
      " 107.17321629  90.51143921 102.30200325  79.74876432  68.57059895\n",
      "  41.90569814 110.238946    48.709676    77.77047208  38.39540575\n",
      "  43.68844914 151.17612014  55.58907416  45.95431734  31.46727429\n",
      " 105.16378112 103.65334057  88.41282924 142.21106711  76.37604461\n",
      "  82.35136146  64.27211496 121.48271141  74.10399298  73.06291038\n",
      "  65.84747381  43.26792314  48.46696603 137.77504909  78.08960822\n",
      "  64.53310024  53.80407549  42.45512518  94.83949258 139.45329207\n",
      " 107.03423105 112.47191841  44.92859148  91.48064681  94.30084954\n",
      "  68.56682821  75.04803522  57.97185174  55.80769392  66.12556126\n",
      " 123.68050886 145.56656336  82.23488466  45.18903332 126.87724233\n",
      " 207.99086027  41.03554169  73.45600866 129.17623064  46.34591341\n",
      "  87.88643366  93.70649678  86.03694101  55.85520911  38.16773975\n",
      " 127.08198924  62.19581527 121.73653476 119.82334869  66.14027717\n",
      "  61.56142613 129.52758311  56.90171578 104.32291335 104.48510366\n",
      "  75.3676799  221.09376758 110.40671696  81.57650612  67.16911687\n",
      " 144.01198676  96.7290658   36.8204417   41.48829407   6.08821844\n",
      "  35.16635241  44.70313512  60.22236901 146.73907443  72.08536565\n",
      "  72.59195403  67.04162527 104.87942263 176.10867013 137.61881055\n",
      "  61.67508381 106.59416656  91.54508982 118.85173608  38.53021369\n",
      "   7.93513073  87.95093441 115.72836456 142.47239608 126.80336017\n",
      " 117.02656527  67.9013834  124.86611737 157.74035684 174.29575317\n",
      "  94.71080692  76.75205028  68.79047744  90.97120369  30.27493784\n",
      "  68.51273622  95.16261227  18.80821076 100.40524054  71.49894203\n",
      "  69.28786477  50.56336503  72.53365473  99.51481039 105.04378405\n",
      "  89.19253238  65.20828904   7.42988175 178.69444992 119.2482474\n",
      "  62.4492916   74.07858541  74.04872298  94.8879337   27.70210525\n",
      "  81.63786429 115.24881852  83.98795224  58.47504912 144.65166512\n",
      "  96.62284746  57.87405633  82.04530629 140.6311312  122.76111804\n",
      "  51.19241103  51.76799917 138.11979358  54.82009333 178.84619163\n",
      "  94.9106157  112.64239741  63.88796837  53.48172625  96.29235821\n",
      "  66.66444029 104.82139991  80.55685743  72.08827408  94.22060952\n",
      " 141.02685277 151.25861373 128.86854383 151.19770513  96.58511218\n",
      "  84.83461111  45.04442588 138.04593709  41.28805695  86.5892621\n",
      " 100.71055485  55.16089143  45.1228793   63.85343959 150.81135792\n",
      "  58.39566477 148.22499709  73.83348918  87.35342737  44.43932867\n",
      "  22.46223532 107.17201091 205.30243661 109.21699375 153.31112737\n",
      "  63.35454056  53.17161118 122.38154651 102.67468863  57.14385892\n",
      " 116.97658328  58.07215306 147.4532451  110.94459513  51.59996855\n",
      " 125.02015086  64.0550942   57.4721256   88.09072092  71.83434049\n",
      "  46.47565139  68.45513742  56.92511242  87.40634519  67.81583136\n",
      " 125.88090909 226.31471667 141.895451   171.84552702 201.00623047\n",
      " 104.5505664  101.12001256  49.67970346 122.14147203 140.83487348\n",
      "  18.91647242 197.21959884 100.68356381 104.04369737 123.91926415\n",
      " 151.72648251  85.48184566 105.17233433  61.11521487  34.9908115\n",
      "  47.30350357 155.30394083 104.28541177 108.20110968 137.56858133\n",
      "  86.53348383  62.02487172  65.14623997  50.31383721 106.53270596\n",
      " 224.38000349  49.65618222  92.52635413 135.0628032  160.05145876\n",
      "  76.80947375  74.4539997   95.46827321  86.91414743 145.37332811\n",
      "  70.1419408 ]\n"
     ]
    }
   ],
   "source": [
    "#Prediction of test set\n",
    "y_pred_mlr= mlr.predict(x_test)\n",
    "#Predicted values\n",
    "print(\"Prediction for test set: {}\".format(y_pred_mlr))## remove # to observe all predicted price values"
   ]
  },
  {
   "cell_type": "code",
   "execution_count": 39,
   "metadata": {
    "colab": {
     "base_uri": "https://localhost:8080/",
     "height": 204
    },
    "id": "35fmL0_07-hu",
    "outputId": "4ca004f0-c2be-451d-93f7-e8616601b56b"
   },
   "outputs": [
    {
     "data": {
      "text/html": [
       "<div>\n",
       "<style scoped>\n",
       "    .dataframe tbody tr th:only-of-type {\n",
       "        vertical-align: middle;\n",
       "    }\n",
       "\n",
       "    .dataframe tbody tr th {\n",
       "        vertical-align: top;\n",
       "    }\n",
       "\n",
       "    .dataframe thead th {\n",
       "        text-align: right;\n",
       "    }\n",
       "</style>\n",
       "<table border=\"1\" class=\"dataframe\">\n",
       "  <thead>\n",
       "    <tr style=\"text-align: right;\">\n",
       "      <th></th>\n",
       "      <th>Actual value</th>\n",
       "      <th>Predicted value</th>\n",
       "    </tr>\n",
       "  </thead>\n",
       "  <tbody>\n",
       "    <tr>\n",
       "      <th>1509</th>\n",
       "      <td>95.70</td>\n",
       "      <td>83.994773</td>\n",
       "    </tr>\n",
       "    <tr>\n",
       "      <th>2916</th>\n",
       "      <td>131.19</td>\n",
       "      <td>114.361693</td>\n",
       "    </tr>\n",
       "    <tr>\n",
       "      <th>2463</th>\n",
       "      <td>53.06</td>\n",
       "      <td>49.383955</td>\n",
       "    </tr>\n",
       "    <tr>\n",
       "      <th>2252</th>\n",
       "      <td>109.41</td>\n",
       "      <td>97.309302</td>\n",
       "    </tr>\n",
       "    <tr>\n",
       "      <th>1992</th>\n",
       "      <td>63.84</td>\n",
       "      <td>58.954743</td>\n",
       "    </tr>\n",
       "  </tbody>\n",
       "</table>\n",
       "</div>"
      ],
      "text/plain": [
       "      Actual value  Predicted value\n",
       "1509         95.70        83.994773\n",
       "2916        131.19       114.361693\n",
       "2463         53.06        49.383955\n",
       "2252        109.41        97.309302\n",
       "1992         63.84        58.954743"
      ]
     },
     "execution_count": 39,
     "metadata": {},
     "output_type": "execute_result"
    }
   ],
   "source": [
    "#Actual value and the predicted value\n",
    "mlr_diff = pd.DataFrame({'Actual value': y_test, 'Predicted value': y_pred_mlr})\n",
    "mlr_diff.head()"
   ]
  },
  {
   "cell_type": "code",
   "execution_count": 40,
   "metadata": {
    "colab": {
     "base_uri": "https://localhost:8080/",
     "height": 365
    },
    "id": "6Jj5BpBJ7-hu",
    "outputId": "f54bc55e-9853-4218-f650-e58883aee6ad"
   },
   "outputs": [
    {
     "data": {
      "image/png": "[encoded data removed]",
      "text/plain": [
       "<Figure size 720x360 with 1 Axes>"
      ]
     },
     "metadata": {
      "needs_background": "light"
     },
     "output_type": "display_data"
    }
   ],
   "source": [
    "#observe first 10 customers prediction\n",
    "mlr_diff = mlr_diff.head(10)\n",
    "#plt.grid()\n",
    "mlr_diff.plot(kind='bar',figsize=(10,5),grid=True)\n",
    "plt.title(\"Actual vs Predicted Price of Used Devices\")\n",
    "plt.xlabel(\"Device ID\")\n",
    "plt.ylabel(\"Price\")\n",
    "plt.show() #We get a bar graph that shows the Actual and Predicted values"
   ]
  },
  {
   "cell_type": "markdown",
   "metadata": {
    "id": "mr-t1FZP7-hu"
   },
   "source": [
    "The above results show the actual price versus the predicted price of used devices. It can be observed that the device with ID 3450 will likely have a high price in future."
   ]
  },
  {
   "cell_type": "markdown",
   "metadata": {
    "id": "jvoU3F6oMKti"
   },
   "source": [
    "## Model performance evaluation"
   ]
  },
  {
   "cell_type": "code",
   "execution_count": 41,
   "metadata": {
    "colab": {
     "base_uri": "https://localhost:8080/"
    },
    "id": "k3e6gzxdMKti",
    "outputId": "5f4117b3-56ac-4863-c02f-58dbc25c41e3"
   },
   "outputs": [
    {
     "name": "stdout",
     "output_type": "stream",
     "text": [
      "R squared: 81.66\n",
      "Mean Absolute Error: 16.20902616668182\n",
      "Mean Square Error: 599.5870789923458\n",
      "Root Mean Square Error: 24.486467262395077\n"
     ]
    }
   ],
   "source": [
    "#Model Evaluation\n",
    "from sklearn import metrics\n",
    "meanAbErr = metrics.mean_absolute_error(y_test, y_pred_mlr)\n",
    "meanSqErr = metrics.mean_squared_error(y_test, y_pred_mlr)\n",
    "rootMeanSqErr = np.sqrt(metrics.mean_squared_error(y_test, y_pred_mlr))\n",
    "print('R squared: {:.2f}'.format(mlr.score(x,y)*100))\n",
    "print('Mean Absolute Error:', meanAbErr)\n",
    "print('Mean Square Error:', meanSqErr)\n",
    "print('Root Mean Square Error:', rootMeanSqErr)"
   ]
  },
  {
   "cell_type": "markdown",
   "metadata": {
    "id": "c-uNlEb57-hv"
   },
   "source": [
    "Mean Absolute Error: Mean Absolute Error is the absolute difference between the actual or true values and the predicted values. The lower the value, the better is the model’s performance. A mean absolute error of 0 means that the model is a perfect predictor of the outputs. The mean absolute error obtained for this particular model is 16.2, which is pretty good .\n",
    "    \n",
    "Mean Square Error: Mean Square Error is calculated by taking the average of the square of the difference between the original and predicted values of the data. The lower the value, the better is the model’s performance. The mean square error obtained for this particular model is 599.59, which is not pretty good.\n",
    "    \n",
    "Root Mean Square Error: Root Mean Square Error is the standard deviation of the errors which occur when a prediction is made on a dataset. This is the same as Mean Squared Error, but the root of the value is considered while determining the accuracy of the model. The lower the value, the better is the model’s performance. The root mean square error obtained for this particular model is 24.49, which is pretty good.\n"
   ]
  },
  {
   "cell_type": "markdown",
   "metadata": {
    "id": "p4O1Juox7-hv"
   },
   "source": [
    "The Multiple Linear Regression model performs fairly well as 81.66% of the data fit the regression model. Also, the mean absolute error, and the root mean square error are lower."
   ]
  },
  {
   "cell_type": "markdown",
   "metadata": {
    "id": "a9GxSQf-qH8e"
   },
   "source": [
    "## Checking Linear Regression Assumptions\n",
    "\n",
    "- In order to make statistical inferences from a linear regression model, it is important to ensure that the assumptions of linear regression are satisfied."
   ]
  },
  {
   "cell_type": "markdown",
   "metadata": {
    "id": "qKTehfP67-hv"
   },
   "source": [
    "#### Linearity assumption"
   ]
  },
  {
   "cell_type": "code",
   "execution_count": 42,
   "metadata": {
    "colab": {
     "base_uri": "https://localhost:8080/",
     "height": 233
    },
    "id": "naX-iXItqH-b",
    "outputId": "9f3528db-83b0-46ec-e0ae-2d0581bcb929"
   },
   "outputs": [
    {
     "data": {
      "image/png": "[encoded data removed]",
      "text/plain": [
       "<Figure size 453.6x216 with 3 Axes>"
      ]
     },
     "metadata": {
      "needs_background": "light"
     },
     "output_type": "display_data"
    }
   ],
   "source": [
    "##Linearity assumption\n",
    "# visualize the relationship between the features and the response using scatterplots\n",
    "p = sns.pairplot(dataset, x_vars=['screen_size', 'main_camera_mp', 'selfie_camera_mp'], y_vars='used_price', size=3, aspect=0.7)"
   ]
  },
  {
   "cell_type": "code",
   "execution_count": 43,
   "metadata": {
    "colab": {
     "base_uri": "https://localhost:8080/",
     "height": 250
    },
    "id": "jZ51hPm97-hw",
    "outputId": "08aa6fbe-b578-4e75-fc3d-e825b683dbf8"
   },
   "outputs": [
    {
     "data": {
      "text/plain": [
       "<seaborn.axisgrid.PairGrid at 0x7f9bd95c9a10>"
      ]
     },
     "execution_count": 43,
     "metadata": {},
     "output_type": "execute_result"
    },
    {
     "data": {
      "image/png": "[encoded data removed]",
      "text/plain": [
       "<Figure size 453.6x216 with 3 Axes>"
      ]
     },
     "metadata": {
      "needs_background": "light"
     },
     "output_type": "display_data"
    }
   ],
   "source": [
    "# visualize the relationship between the features and the response using scatterplots\n",
    "sns.pairplot(dataset, x_vars=['int_memory',\n",
    "       'ram', 'battery'], y_vars='used_price', size=3, aspect=0.7)"
   ]
  },
  {
   "cell_type": "code",
   "execution_count": 44,
   "metadata": {
    "colab": {
     "base_uri": "https://localhost:8080/",
     "height": 250
    },
    "id": "Ia50TFcq7-hw",
    "outputId": "7d18b6ed-3036-45d0-d594-414d7f6c3e2e"
   },
   "outputs": [
    {
     "data": {
      "text/plain": [
       "<seaborn.axisgrid.PairGrid at 0x7f9be5adbe10>"
      ]
     },
     "execution_count": 44,
     "metadata": {},
     "output_type": "execute_result"
    },
    {
     "data": {
      "image/png": "[encoded data removed]",
      "text/plain": [
       "<Figure size 453.6x216 with 3 Axes>"
      ]
     },
     "metadata": {
      "needs_background": "light"
     },
     "output_type": "display_data"
    }
   ],
   "source": [
    "# visualize the relationship between the features and the response using scatterplots\n",
    "sns.pairplot(dataset, x_vars=['weight', 'days_used', 'new_price'], y_vars='used_price', size=3, aspect=0.7)"
   ]
  },
  {
   "cell_type": "markdown",
   "metadata": {
    "id": "XcLqxqOS7-hw"
   },
   "source": [
    "It can be observed that the linearity assumption is met by all  variables except internal memeory size variable  which seems to have a lower relationship with used device price"
   ]
  },
  {
   "cell_type": "markdown",
   "metadata": {
    "id": "ksqtYOGR7-hw"
   },
   "source": [
    "#### Mean of Residuals"
   ]
  },
  {
   "cell_type": "code",
   "execution_count": 45,
   "metadata": {
    "colab": {
     "base_uri": "https://localhost:8080/"
    },
    "id": "2NQgCsBW7-hw",
    "outputId": "2728a31f-4243-4217-abef-01a4cfd69def"
   },
   "outputs": [
    {
     "name": "stdout",
     "output_type": "stream",
     "text": [
      "Mean of Residuals -1.7599741017509728e-15\n"
     ]
    }
   ],
   "source": [
    "##check Mean of Residuals\n",
    "y_pred_mlrr = mlr.predict(x_train)\n",
    "residuals = y_train.values-y_pred_mlrr\n",
    "mean_residuals = np.mean(residuals)\n",
    "print(\"Mean of Residuals {}\".format(mean_residuals))"
   ]
  },
  {
   "cell_type": "markdown",
   "metadata": {
    "id": "yvCfnFJr7-hw"
   },
   "source": [
    "One of the assumptions of linear regression is that the mean of the residuals should be zero. The  mean of residuals is closer to \n",
    "zero hence the model satisfies this assumption."
   ]
  },
  {
   "cell_type": "markdown",
   "metadata": {
    "id": "Hxcy9nJW7-hw"
   },
   "source": [
    "#### Homoscedasticity"
   ]
  },
  {
   "cell_type": "code",
   "execution_count": 46,
   "metadata": {
    "colab": {
     "base_uri": "https://localhost:8080/",
     "height": 296
    },
    "id": "PRE_ER4f7-hw",
    "outputId": "78772a26-e238-45f9-a160-5ff70a31a9cb"
   },
   "outputs": [
    {
     "data": {
      "image/png": "[encoded data removed]",
      "text/plain": [
       "<Figure size 432x288 with 1 Axes>"
      ]
     },
     "metadata": {
      "needs_background": "light"
     },
     "output_type": "display_data"
    }
   ],
   "source": [
    "p = sns.scatterplot(y_pred_mlrr,residuals)\n",
    "plt.xlabel('y_pred/predicted values')\n",
    "plt.ylabel('Residuals')\n",
    "plt.ylim(-10,10)\n",
    "plt.xlim(0,26)\n",
    "p = sns.lineplot([0,26],[0,0],color='blue')\n",
    "p = plt.title('Residuals vs fitted values plot for homoscedasticity check')"
   ]
  },
  {
   "cell_type": "markdown",
   "metadata": {
    "id": "32EpYWye7-hw"
   },
   "source": [
    "Homoscedasticity means that the residuals have equal or almost equal variance across the regression line. By plotting the error terms with predicted terms we can check that there should not be any pattern in the error terms. Hence, this assumption has been met."
   ]
  },
  {
   "cell_type": "markdown",
   "metadata": {
    "id": "jRYSDgFZMKtm"
   },
   "source": [
    "## Final Model Summary"
   ]
  },
  {
   "cell_type": "code",
   "execution_count": null,
   "metadata": {
    "id": "x_Sqvs4TMKtn",
    "outputId": "30cd7bcd-49de-4049-8730-8db25170be5f"
   },
   "outputs": [
    {
     "data": {
      "text/plain": [
       "array([ 9.42908144e-01,  1.59685775e+00,  2.05491529e+00,  3.87037719e-02,\n",
       "        1.65215582e+00, -3.22222727e-04,  1.23292228e-01, -6.63087198e-03,\n",
       "        1.49608596e-01])"
      ]
     },
     "execution_count": 149,
     "metadata": {},
     "output_type": "execute_result"
    }
   ],
   "source": [
    "##model summary\n",
    "mlr.coef_"
   ]
  },
  {
   "cell_type": "markdown",
   "metadata": {
    "id": "5lMJmYvt7-hx"
   },
   "source": [
    "The final multiple linear equation can be given as:\n",
    "    \n",
    "**Used Phone Price = -10.97 + screen_size(0.94)+main_camera_mp(1.59)+selfie_camera_mp(2.05)+\n",
    " int_memory(0.038)+ ram(1.65)- battery(0.00032)+ weight(0.12)-days_used(0.0066)+ new_price(0.14)+e**\n"
   ]
  }
 ],
 "metadata": {
  "colab": {
   "collapsed_sections": [],
   "name": "SLF_Project_LearnerNotebook_FullCode.ipynb",
   "provenance": []
  },
  "kernelspec": {
   "display_name": "Python 3 (ipykernel)",
   "language": "python",
   "name": "python3"
  },
  "language_info": {
   "codemirror_mode": {
    "name": "ipython",
    "version": 3
   },
   "file_extension": ".py",
   "mimetype": "text/x-python",
   "name": "python",
   "nbconvert_exporter": "python",
   "pygments_lexer": "ipython3",
   "version": "3.7.11"
  }
 },
 "nbformat": 4,
 "nbformat_minor": 1
}
